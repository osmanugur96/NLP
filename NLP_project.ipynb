{
 "cells": [
  {
   "cell_type": "markdown",
   "metadata": {},
   "source": [
    "# ADAMS PROJECT 2020\n",
    "Osman Uğur Çelik 609211"
   ]
  },
  {
   "cell_type": "code",
   "execution_count": 1,
   "metadata": {},
   "outputs": [
    {
     "name": "stderr",
     "output_type": "stream",
     "text": [
      "[nltk_data] Downloading package stopwords to\n",
      "[nltk_data]     C:\\Users\\osman\\AppData\\Roaming\\nltk_data...\n",
      "[nltk_data]   Package stopwords is already up-to-date!\n",
      "[nltk_data] Downloading package punkt to\n",
      "[nltk_data]     C:\\Users\\osman\\AppData\\Roaming\\nltk_data...\n",
      "[nltk_data]   Package punkt is already up-to-date!\n",
      "[nltk_data] Downloading package averaged_perceptron_tagger to\n",
      "[nltk_data]     C:\\Users\\osman\\AppData\\Roaming\\nltk_data...\n",
      "[nltk_data]   Package averaged_perceptron_tagger is already up-to-\n",
      "[nltk_data]       date!\n",
      "[nltk_data] Downloading package wordnet to\n",
      "[nltk_data]     C:\\Users\\osman\\AppData\\Roaming\\nltk_data...\n",
      "[nltk_data]   Package wordnet is already up-to-date!\n"
     ]
    },
    {
     "name": "stdout",
     "output_type": "stream",
     "text": [
      "Requirement already satisfied: gensim in c:\\users\\osman\\anaconda3\\lib\\site-packages (3.8.3)\n",
      "Requirement already satisfied: numpy>=1.11.3 in c:\\users\\osman\\anaconda3\\lib\\site-packages (from gensim) (1.18.1)\n",
      "Requirement already satisfied: six>=1.5.0 in c:\\users\\osman\\anaconda3\\lib\\site-packages (from gensim) (1.14.0)\n",
      "Requirement already satisfied: Cython==0.29.14 in c:\\users\\osman\\anaconda3\\lib\\site-packages (from gensim) (0.29.14)\n",
      "Requirement already satisfied: scipy>=0.18.1 in c:\\users\\osman\\anaconda3\\lib\\site-packages (from gensim) (1.4.1)\n",
      "Requirement already satisfied: smart-open>=1.8.1 in c:\\users\\osman\\anaconda3\\lib\\site-packages (from gensim) (2.1.0)\n",
      "Requirement already satisfied: requests in c:\\users\\osman\\anaconda3\\lib\\site-packages (from smart-open>=1.8.1->gensim) (2.22.0)\n",
      "Requirement already satisfied: boto3 in c:\\users\\osman\\anaconda3\\lib\\site-packages (from smart-open>=1.8.1->gensim) (1.14.47)\n",
      "Requirement already satisfied: boto in c:\\users\\osman\\anaconda3\\lib\\site-packages (from smart-open>=1.8.1->gensim) (2.49.0)\n",
      "Requirement already satisfied: chardet<3.1.0,>=3.0.2 in c:\\users\\osman\\anaconda3\\lib\\site-packages (from requests->smart-open>=1.8.1->gensim) (3.0.4)\n",
      "Requirement already satisfied: certifi>=2017.4.17 in c:\\users\\osman\\anaconda3\\lib\\site-packages (from requests->smart-open>=1.8.1->gensim) (2019.11.28)\n",
      "Requirement already satisfied: idna<2.9,>=2.5 in c:\\users\\osman\\anaconda3\\lib\\site-packages (from requests->smart-open>=1.8.1->gensim) (2.8)\n",
      "Requirement already satisfied: urllib3!=1.25.0,!=1.25.1,<1.26,>=1.21.1 in c:\\users\\osman\\anaconda3\\lib\\site-packages (from requests->smart-open>=1.8.1->gensim) (1.25.8)\n",
      "Requirement already satisfied: botocore<1.18.0,>=1.17.47 in c:\\users\\osman\\anaconda3\\lib\\site-packages (from boto3->smart-open>=1.8.1->gensim) (1.17.47)\n",
      "Requirement already satisfied: s3transfer<0.4.0,>=0.3.0 in c:\\users\\osman\\anaconda3\\lib\\site-packages (from boto3->smart-open>=1.8.1->gensim) (0.3.3)\n",
      "Requirement already satisfied: jmespath<1.0.0,>=0.7.1 in c:\\users\\osman\\anaconda3\\lib\\site-packages (from boto3->smart-open>=1.8.1->gensim) (0.10.0)\n",
      "Requirement already satisfied: python-dateutil<3.0.0,>=2.1 in c:\\users\\osman\\anaconda3\\lib\\site-packages (from botocore<1.18.0,>=1.17.47->boto3->smart-open>=1.8.1->gensim) (2.8.1)\n",
      "Requirement already satisfied: docutils<0.16,>=0.10 in c:\\users\\osman\\anaconda3\\lib\\site-packages (from botocore<1.18.0,>=1.17.47->boto3->smart-open>=1.8.1->gensim) (0.15.2)\n"
     ]
    }
   ],
   "source": [
    "\n",
    "import pandas as pd\n",
    "import matplotlib.pyplot as plt\n",
    "import numpy as np\n",
    "\n",
    "import re\n",
    "\n",
    "import time\n",
    "\n",
    "import pickle\n",
    "\n",
    "from bs4 import BeautifulSoup\n",
    "\n",
    "import nltk\n",
    "nltk.download('stopwords')\n",
    "nltk.download('punkt')\n",
    "nltk.download('averaged_perceptron_tagger')\n",
    "nltk.download('wordnet')\n",
    "from nltk.tokenize import word_tokenize\n",
    "from nltk.corpus import stopwords\n",
    "from nltk.stem import WordNetLemmatizer\n",
    "from nltk.stem import *\n",
    "import re\n",
    "import string\n",
    "\n",
    "from sklearn import model_selection\n",
    "from sklearn.preprocessing import LabelEncoder\n",
    "from sklearn.model_selection import train_test_split\n",
    "from sklearn.metrics import classification_report, confusion_matrix\n",
    "\n",
    "import keras\n",
    "from keras.utils import to_categorical\n",
    "from keras.models import Sequential, Model\n",
    "from keras.layers import Dense, Embedding, LSTM,GRU, Dropout, Input, Bidirectional\n",
    "from keras.layers.embeddings import Embedding\n",
    "from keras.layers import Conv1D, GlobalMaxPool1D, concatenate\n",
    "from keras.initializers import Constant\n",
    "from keras.preprocessing.text import Tokenizer\n",
    "from keras.preprocessing.sequence import pad_sequences\n",
    "from keras.callbacks import EarlyStopping, ModelCheckpoint\n",
    "\n",
    "import statsmodels\n",
    "import statsmodels.api as sm\n",
    "from sklearn.linear_model import LinearRegression, Ridge\n",
    "from sklearn.metrics import r2_score, mean_squared_error\n",
    "from sklearn.feature_extraction.text import TfidfVectorizer\n",
    "from sklearn.feature_extraction import DictVectorizer\n",
    "!pip install gensim\n",
    "import gensim\n",
    "from gensim.models import Word2Vec\n",
    "\n",
    "from scipy.special import inv_boxcox, boxcox\n",
    "from scipy.stats import pearsonr\n",
    "from scipy.sparse import coo_matrix, hstack\n",
    "\n",
    "\n",
    "import seaborn as sns\n",
    "import seaborn as sns; sns.set() \n",
    "%matplotlib inline\n",
    "import matplotlib.pyplot as plt\n",
    "%matplotlib inline\n",
    "import pickle\n",
    "pd.set_option('display.max_columns', 50)\n",
    "pd.set_option('display.max_rows', 500)"
   ]
  },
  {
   "cell_type": "markdown",
   "metadata": {},
   "source": [
    "I will do the necessary steps to get Test and Train data."
   ]
  },
  {
   "cell_type": "code",
   "execution_count": 2,
   "metadata": {},
   "outputs": [
    {
     "name": "stdout",
     "output_type": "stream",
     "text": [
      "C:\\Users\\osman\\Desktop\\music\\tracks\\geburtstag\n"
     ]
    }
   ],
   "source": [
    "\n",
    "import os\n",
    "print(os.getcwd())"
   ]
  },
  {
   "cell_type": "code",
   "execution_count": 3,
   "metadata": {},
   "outputs": [],
   "source": [
    "os.chdir('C:/Users/osman\\Desktop/adams-master/data')"
   ]
  },
  {
   "cell_type": "code",
   "execution_count": 370,
   "metadata": {},
   "outputs": [
    {
     "name": "stdout",
     "output_type": "stream",
     "text": [
      "<class 'pandas.core.frame.DataFrame'>\n",
      "RangeIndex: 279577 entries, 0 to 279576\n",
      "Data columns (total 50 columns):\n",
      " #   Column                       Non-Null Count   Dtype  \n",
      "---  ------                       --------------   -----  \n",
      " 0   audioVersionDurationSec      279577 non-null  int64  \n",
      " 1   codeBlock                    25179 non-null   object \n",
      " 2   codeBlockCount               279577 non-null  float64\n",
      " 3   collectionId                 137878 non-null  object \n",
      " 4   createdDate                  279577 non-null  object \n",
      " 5   createdDatetime              279577 non-null  object \n",
      " 6   firstPublishedDate           279577 non-null  object \n",
      " 7   firstPublishedDatetime       279577 non-null  object \n",
      " 8   imageCount                   279577 non-null  int64  \n",
      " 9   isSubscriptionLocked         279577 non-null  bool   \n",
      " 10  language                     279577 non-null  object \n",
      " 11  latestPublishedDate          279577 non-null  object \n",
      " 12  latestPublishedDatetime      279577 non-null  object \n",
      " 13  linksCount                   279577 non-null  int64  \n",
      " 14  postId                       279577 non-null  object \n",
      " 15  readingTime                  279577 non-null  float64\n",
      " 16  recommends                   279577 non-null  int64  \n",
      " 17  responsesCreatedCount        279577 non-null  int64  \n",
      " 18  socialRecommendsCount        279577 non-null  int64  \n",
      " 19  subTitle                     271217 non-null  object \n",
      " 20  tagsCount                    279577 non-null  int64  \n",
      " 21  text                         279577 non-null  object \n",
      " 22  title                        279572 non-null  object \n",
      " 23  totalClapCount               279577 non-null  int64  \n",
      " 24  uniqueSlug                   279577 non-null  object \n",
      " 25  updatedDate                  279577 non-null  object \n",
      " 26  updatedDatetime              279577 non-null  object \n",
      " 27  url                          279577 non-null  object \n",
      " 28  vote                         279577 non-null  bool   \n",
      " 29  wordCount                    279577 non-null  int64  \n",
      " 30  publicationdescription       137231 non-null  object \n",
      " 31  publicationdomain            53972 non-null   object \n",
      " 32  publicationfacebookPageName  100874 non-null  object \n",
      " 33  publicationfollowerCount     0 non-null       float64\n",
      " 34  publicationname              137231 non-null  object \n",
      " 35  publicationpublicEmail       101982 non-null  object \n",
      " 36  publicationslug              137231 non-null  object \n",
      " 37  publicationtags              130298 non-null  object \n",
      " 38  publicationtwitterUsername   119851 non-null  object \n",
      " 39  tag_name                     279577 non-null  object \n",
      " 40  slug                         279577 non-null  object \n",
      " 41  name                         279577 non-null  object \n",
      " 42  postCount                    279577 non-null  float64\n",
      " 43  author                       279577 non-null  object \n",
      " 44  bio                          225480 non-null  object \n",
      " 45  userId                       279577 non-null  object \n",
      " 46  userName                     279577 non-null  object \n",
      " 47  usersFollowedByCount         279577 non-null  float64\n",
      " 48  usersFollowedCount           279577 non-null  float64\n",
      " 49  scrappedDate                 279577 non-null  int64  \n",
      "dtypes: bool(2), float64(6), int64(10), object(32)\n",
      "memory usage: 102.9+ MB\n"
     ]
    }
   ],
   "source": [
    "traindata = pd.read_csv(\"Train.csv\")\n",
    "traindata.info()"
   ]
  },
  {
   "cell_type": "code",
   "execution_count": 366,
   "metadata": {},
   "outputs": [
    {
     "data": {
      "text/plain": [
       "array(['audioVersionDurationSec', 'codeBlock', 'codeBlockCount',\n",
       "       'collectionId', 'createdDate', 'createdDatetime',\n",
       "       'firstPublishedDate', 'firstPublishedDatetime', 'imageCount',\n",
       "       'isSubscriptionLocked', 'language', 'latestPublishedDate',\n",
       "       'latestPublishedDatetime', 'linksCount', 'postId', 'readingTime',\n",
       "       'recommends', 'responsesCreatedCount', 'socialRecommendsCount',\n",
       "       'subTitle', 'tagsCount', 'text', 'title', 'totalClapCount',\n",
       "       'uniqueSlug', 'updatedDate', 'updatedDatetime', 'url', 'vote',\n",
       "       'wordCount', 'publicationdescription', 'publicationdomain',\n",
       "       'publicationfacebookPageName', 'publicationfollowerCount',\n",
       "       'publicationname', 'publicationpublicEmail', 'publicationslug',\n",
       "       'publicationtags', 'publicationtwitterUsername', 'tag_name',\n",
       "       'slug', 'name', 'postCount', 'author', 'bio', 'userId', 'userName',\n",
       "       'usersFollowedByCount', 'usersFollowedCount', 'scrappedDate'],\n",
       "      dtype=object)"
      ]
     },
     "execution_count": 366,
     "metadata": {},
     "output_type": "execute_result"
    }
   ],
   "source": [
    "traindata.columns.values\n"
   ]
  },
  {
   "cell_type": "markdown",
   "metadata": {},
   "source": [
    "There are too many columns I should drop most of them by looking at the most frequent values\n",
    "To choose the right columns to drop first I should look at the column names in test data"
   ]
  },
  {
   "cell_type": "code",
   "execution_count": 187,
   "metadata": {
    "scrolled": true
   },
   "outputs": [
    {
     "name": "stdout",
     "output_type": "stream",
     "text": [
      "<class 'pandas.core.frame.DataFrame'>\n",
      "RangeIndex: 514 entries, 0 to 513\n",
      "Data columns (total 8 columns):\n",
      " #   Column              Non-Null Count  Dtype \n",
      "---  ------              --------------  ----- \n",
      " 0   Unnamed: 0          514 non-null    int64 \n",
      " 1   index               514 non-null    int64 \n",
      " 2   Author              514 non-null    object\n",
      " 3   PublicationDetails  514 non-null    object\n",
      " 4   Responses           432 non-null    object\n",
      " 5   Header              506 non-null    object\n",
      " 6   Text                514 non-null    object\n",
      " 7   Length              514 non-null    int64 \n",
      "dtypes: int64(3), object(5)\n",
      "memory usage: 32.2+ KB\n"
     ]
    }
   ],
   "source": [
    "testdata = pd.read_csv(\"Test.csv\")\n",
    "testdata.info()"
   ]
  },
  {
   "cell_type": "code",
   "execution_count": 188,
   "metadata": {
    "scrolled": true
   },
   "outputs": [
    {
     "data": {
      "text/html": [
       "<div>\n",
       "<style scoped>\n",
       "    .dataframe tbody tr th:only-of-type {\n",
       "        vertical-align: middle;\n",
       "    }\n",
       "\n",
       "    .dataframe tbody tr th {\n",
       "        vertical-align: top;\n",
       "    }\n",
       "\n",
       "    .dataframe thead th {\n",
       "        text-align: right;\n",
       "    }\n",
       "</style>\n",
       "<table border=\"1\" class=\"dataframe\">\n",
       "  <thead>\n",
       "    <tr style=\"text-align: right;\">\n",
       "      <th></th>\n",
       "      <th>Unnamed: 0</th>\n",
       "      <th>index</th>\n",
       "      <th>Author</th>\n",
       "      <th>PublicationDetails</th>\n",
       "      <th>Responses</th>\n",
       "      <th>Header</th>\n",
       "      <th>Text</th>\n",
       "      <th>Length</th>\n",
       "    </tr>\n",
       "  </thead>\n",
       "  <tbody>\n",
       "    <tr>\n",
       "      <th>0</th>\n",
       "      <td>0</td>\n",
       "      <td>0</td>\n",
       "      <td>Daniel Jeffries</td>\n",
       "      <td>Daniel Jeffries in HackerNoon.comJul 31, 2017</td>\n",
       "      <td>627 responses</td>\n",
       "      <td>Why Everyone Missed the Most Mind-Blowing Feat...</td>\n",
       "      <td>There’s one incredible feature of cryptocurren...</td>\n",
       "      <td>23401</td>\n",
       "    </tr>\n",
       "    <tr>\n",
       "      <th>1</th>\n",
       "      <td>1</td>\n",
       "      <td>1</td>\n",
       "      <td>Noam Levenson</td>\n",
       "      <td>Noam Levenson in HackerNoon.comDec 6, 2017</td>\n",
       "      <td>156 responses</td>\n",
       "      <td>NEO versus Ethereum: Why NEO might be 2018’s s...</td>\n",
       "      <td>&lt;img class=\"progressiveMedia-noscript js-progr...</td>\n",
       "      <td>23972</td>\n",
       "    </tr>\n",
       "    <tr>\n",
       "      <th>2</th>\n",
       "      <td>2</td>\n",
       "      <td>2</td>\n",
       "      <td>Daniel Jeffries</td>\n",
       "      <td>Daniel Jeffries in HackerNoon.comJul 21, 2017</td>\n",
       "      <td>176 responses</td>\n",
       "      <td>The Cryptocurrency Trading Bible</td>\n",
       "      <td>So you want to trade cryptocurrency?You’ve see...</td>\n",
       "      <td>402</td>\n",
       "    </tr>\n",
       "    <tr>\n",
       "      <th>3</th>\n",
       "      <td>3</td>\n",
       "      <td>5</td>\n",
       "      <td>Haseeb Qureshi</td>\n",
       "      <td>Haseeb Qureshi in HackerNoon.comFeb 19, 2018</td>\n",
       "      <td>72 responses</td>\n",
       "      <td>Stablecoins: designing a price-stable cryptocu...</td>\n",
       "      <td>A useful currency should be a medium of exchan...</td>\n",
       "      <td>19730</td>\n",
       "    </tr>\n",
       "    <tr>\n",
       "      <th>4</th>\n",
       "      <td>4</td>\n",
       "      <td>7</td>\n",
       "      <td>William Belk</td>\n",
       "      <td>William Belk in HackerNoon.comJan 28, 2018</td>\n",
       "      <td>19 responses</td>\n",
       "      <td>Chaos vs. Order — The Cryptocurrency Dilemma</td>\n",
       "      <td>Crypto crypto crypto crypto. It’s here. It’s h...</td>\n",
       "      <td>5324</td>\n",
       "    </tr>\n",
       "  </tbody>\n",
       "</table>\n",
       "</div>"
      ],
      "text/plain": [
       "   Unnamed: 0  index           Author  \\\n",
       "0           0      0  Daniel Jeffries   \n",
       "1           1      1    Noam Levenson   \n",
       "2           2      2  Daniel Jeffries   \n",
       "3           3      5   Haseeb Qureshi   \n",
       "4           4      7     William Belk   \n",
       "\n",
       "                              PublicationDetails      Responses  \\\n",
       "0  Daniel Jeffries in HackerNoon.comJul 31, 2017  627 responses   \n",
       "1     Noam Levenson in HackerNoon.comDec 6, 2017  156 responses   \n",
       "2  Daniel Jeffries in HackerNoon.comJul 21, 2017  176 responses   \n",
       "3   Haseeb Qureshi in HackerNoon.comFeb 19, 2018   72 responses   \n",
       "4     William Belk in HackerNoon.comJan 28, 2018   19 responses   \n",
       "\n",
       "                                              Header  \\\n",
       "0  Why Everyone Missed the Most Mind-Blowing Feat...   \n",
       "1  NEO versus Ethereum: Why NEO might be 2018’s s...   \n",
       "2                   The Cryptocurrency Trading Bible   \n",
       "3  Stablecoins: designing a price-stable cryptocu...   \n",
       "4       Chaos vs. Order — The Cryptocurrency Dilemma   \n",
       "\n",
       "                                                Text  Length  \n",
       "0  There’s one incredible feature of cryptocurren...   23401  \n",
       "1  <img class=\"progressiveMedia-noscript js-progr...   23972  \n",
       "2  So you want to trade cryptocurrency?You’ve see...     402  \n",
       "3  A useful currency should be a medium of exchan...   19730  \n",
       "4  Crypto crypto crypto crypto. It’s here. It’s h...    5324  "
      ]
     },
     "execution_count": 188,
     "metadata": {},
     "output_type": "execute_result"
    }
   ],
   "source": [
    "testdata.columns.values\n",
    "testdata.head()"
   ]
  },
  {
   "cell_type": "code",
   "execution_count": 206,
   "metadata": {},
   "outputs": [],
   "source": [
    "testdata = testdata.rename(columns={'Header': 'title'})\n",
    "testdata = testdata.rename(columns={'Length': 'wordCount'})\n",
    "testdata = testdata.rename(columns={'Author': 'author'})"
   ]
  },
  {
   "cell_type": "markdown",
   "metadata": {},
   "source": [
    "I start by looking at the language"
   ]
  },
  {
   "cell_type": "markdown",
   "metadata": {},
   "source": [
    "We see most of the articles are in English so we drop other languages and do our analysis using only english articles."
   ]
  },
  {
   "cell_type": "markdown",
   "metadata": {},
   "source": [
    "## Descriptive Analytics"
   ]
  },
  {
   "cell_type": "code",
   "execution_count": 55,
   "metadata": {},
   "outputs": [
    {
     "data": {
      "text/plain": [
       "(array([39988.,  4200.,  4582.,  2617.,  1606.,  3334.,  2055.,  1356.,\n",
       "          937.]),\n",
       " array([  0,  20,  40,  60,  80, 100, 150, 200, 250, 300]),\n",
       " <a list of 9 Patch objects>)"
      ]
     },
     "execution_count": 55,
     "metadata": {},
     "output_type": "execute_result"
    },
    {
     "data": {
      "image/png": "[encoded data removed]",
      "text/plain": [
       "<Figure size 432x288 with 1 Axes>"
      ]
     },
     "metadata": {
      "needs_background": "light"
     },
     "output_type": "display_data"
    }
   ],
   "source": [
    "plt.hist(traindata['totalClapCount'], bins=[0, 20, 40, 60, 80, 100, 150, 200, 250, 300])"
   ]
  },
  {
   "cell_type": "markdown",
   "metadata": {},
   "source": [
    "I start by looking at the language, in which the articles are written. As it is impossible to make my model read every language."
   ]
  },
  {
   "cell_type": "code",
   "execution_count": 229,
   "metadata": {},
   "outputs": [
    {
     "data": {
      "text/plain": [
       "count     66329.000000\n",
       "mean        173.268118\n",
       "std        1892.611175\n",
       "min           0.000000\n",
       "25%           0.000000\n",
       "50%           6.000000\n",
       "75%          65.000000\n",
       "max      291706.000000\n",
       "Name: totalClapCount, dtype: float64"
      ]
     },
     "execution_count": 229,
     "metadata": {},
     "output_type": "execute_result"
    }
   ],
   "source": [
    "traindata['totalClapCount'].describe()"
   ]
  },
  {
   "cell_type": "code",
   "execution_count": 230,
   "metadata": {},
   "outputs": [
    {
     "name": "stdout",
     "output_type": "stream",
     "text": [
      "20808\n"
     ]
    }
   ],
   "source": [
    "print(traindata[traindata['totalClapCount'] == 0].count()['totalClapCount'])"
   ]
  },
  {
   "cell_type": "markdown",
   "metadata": {},
   "source": [
    "As you can see most of the articles have a clap count between 0 and 20. We see diminishing number of articles as clap number goes up. I am also interested in the correlation between word count and clap count, since I have a length column in test data, it might be useful and applicable in the future."
   ]
  },
  {
   "cell_type": "code",
   "execution_count": 266,
   "metadata": {},
   "outputs": [
    {
     "data": {
      "text/plain": [
       "7.810688979345696"
      ]
     },
     "execution_count": 266,
     "metadata": {},
     "output_type": "execute_result"
    }
   ],
   "source": [
    "title_desc = traindata['title']\n",
    "a = [0]\n",
    "for x in title_desc:\n",
    "    i=0\n",
    "    xinstring = str(x)\n",
    "    a.append(len(xinstring.split()))\n",
    "r = np.array(a)\n",
    "np.mean(r)"
   ]
  },
  {
   "cell_type": "code",
   "execution_count": 269,
   "metadata": {},
   "outputs": [
    {
     "data": {
      "text/plain": [
       "(array([  409.,  5070., 12431., 15795., 13727.,  9197.,  5509.,  2781.,\n",
       "         1290.]),\n",
       " array([ 0,  2,  4,  6,  8, 10, 12, 14, 16, 18]),\n",
       " <a list of 9 Patch objects>)"
      ]
     },
     "execution_count": 269,
     "metadata": {},
     "output_type": "execute_result"
    },
    {
     "data": {
      "image/png": "[encoded data removed]",
      "text/plain": [
       "<Figure size 432x288 with 1 Axes>"
      ]
     },
     "metadata": {
      "needs_background": "light"
     },
     "output_type": "display_data"
    }
   ],
   "source": [
    "plt.hist(r, bins=[0, 2, 4, 6, 8, 10, 12, 14, 16, 18])"
   ]
  },
  {
   "cell_type": "code",
   "execution_count": 367,
   "metadata": {},
   "outputs": [
    {
     "data": {
      "text/plain": [
       "en         257655\n",
       "es           3714\n",
       "pt           3518\n",
       "zh-Hant      2703\n",
       "fr           2035\n",
       "tr           1558\n",
       "ru           1220\n",
       "th           1217\n",
       "ja           1035\n",
       "it            851\n",
       "id            750\n",
       "ko            672\n",
       "de            404\n",
       "un            344\n",
       "zh            338\n",
       "Name: language, dtype: int64"
      ]
     },
     "execution_count": 367,
     "metadata": {},
     "output_type": "execute_result"
    }
   ],
   "source": [
    "traindata['language'].value_counts().head(15)"
   ]
  },
  {
   "cell_type": "markdown",
   "metadata": {},
   "source": [
    "As you can see vast majority of the articles are in English, to the point that entries in different languages are negligible. Therefore I will drop the other values. Also like I said before I would need to create a new dictionary for every different language I don't exclude. Adding a second language means double the size of  dictionary and half the speed for my models to compute. [1]"
   ]
  },
  {
   "cell_type": "code",
   "execution_count": 371,
   "metadata": {},
   "outputs": [
    {
     "data": {
      "text/plain": [
       "count    279577.000000\n",
       "mean        184.963473\n",
       "std        1985.353004\n",
       "min           0.000000\n",
       "25%           0.000000\n",
       "50%           8.000000\n",
       "75%          72.000000\n",
       "max      291706.000000\n",
       "Name: totalClapCount, dtype: float64"
      ]
     },
     "execution_count": 371,
     "metadata": {},
     "output_type": "execute_result"
    }
   ],
   "source": [
    "traindata['totalClapCount'].describe()"
   ]
  },
  {
   "cell_type": "code",
   "execution_count": 372,
   "metadata": {},
   "outputs": [],
   "source": [
    "traindata = traindata[traindata['language']==\"en\"]"
   ]
  },
  {
   "cell_type": "code",
   "execution_count": 373,
   "metadata": {},
   "outputs": [
    {
     "data": {
      "text/plain": [
       "(257655, 50)"
      ]
     },
     "execution_count": 373,
     "metadata": {},
     "output_type": "execute_result"
    }
   ],
   "source": [
    "traindata.shape\n"
   ]
  },
  {
   "cell_type": "markdown",
   "metadata": {},
   "source": [
    "As I explained above there are too many unnecessary columns in train data so I will drop them until we only have the necessary columns we need. We only have: Author,\tPublicationDetails,\tResponses,\tHeader,\tText,\tand length columns in test data. Besides these 5 every other column in train won't help me make a prediction (since my trained model won't be able to make predictions based on them) and therefore useless. Also I need to remove the duplicates from our data frame."
   ]
  },
  {
   "cell_type": "code",
   "execution_count": 374,
   "metadata": {},
   "outputs": [
    {
     "data": {
      "text/plain": [
       "(66329, 5)"
      ]
     },
     "execution_count": 374,
     "metadata": {},
     "output_type": "execute_result"
    }
   ],
   "source": [
    "traindata = traindata.drop(['tag_name', 'slug', 'name', 'postCount','audioVersionDurationSec', 'codeBlock', 'codeBlockCount',\n",
    "       'collectionId', 'createdDate', 'createdDatetime',\n",
    "       'firstPublishedDatetime', 'imageCount',\n",
    "       'isSubscriptionLocked', 'language', 'latestPublishedDate',\n",
    "       'latestPublishedDatetime', 'linksCount', 'postId', 'readingTime',\n",
    "       'recommends', 'responsesCreatedCount', 'socialRecommendsCount',\n",
    "       'subTitle', 'tagsCount', \n",
    "       'uniqueSlug', 'updatedDate', 'updatedDatetime', 'url', 'vote',\n",
    "       'wordCount', 'publicationdescription', 'publicationdomain',\n",
    "       'publicationfacebookPageName', 'publicationfollowerCount',\n",
    "       'publicationname', 'publicationpublicEmail', 'publicationslug',\n",
    "       'publicationtags', 'publicationtwitterUsername', 'tag_name',\n",
    "       'slug', 'name', 'postCount',  'bio', 'userId', 'userName',\n",
    "       'usersFollowedByCount', 'usersFollowedCount', 'scrappedDate'], axis=1)\n",
    "traindata = traindata.drop_duplicates()\n",
    "traindata.shape\n"
   ]
  },
  {
   "cell_type": "code",
   "execution_count": 228,
   "metadata": {},
   "outputs": [
    {
     "data": {
      "text/html": [
       "<div>\n",
       "<style scoped>\n",
       "    .dataframe tbody tr th:only-of-type {\n",
       "        vertical-align: middle;\n",
       "    }\n",
       "\n",
       "    .dataframe tbody tr th {\n",
       "        vertical-align: top;\n",
       "    }\n",
       "\n",
       "    .dataframe thead th {\n",
       "        text-align: right;\n",
       "    }\n",
       "</style>\n",
       "<table border=\"1\" class=\"dataframe\">\n",
       "  <thead>\n",
       "    <tr style=\"text-align: right;\">\n",
       "      <th></th>\n",
       "      <th>firstPublishedDate</th>\n",
       "      <th>text</th>\n",
       "      <th>title</th>\n",
       "      <th>totalClapCount</th>\n",
       "      <th>author</th>\n",
       "    </tr>\n",
       "  </thead>\n",
       "  <tbody>\n",
       "    <tr>\n",
       "      <th>0</th>\n",
       "      <td>2018-09-18</td>\n",
       "      <td>Private Business, Government and Blockchain\\n\\...</td>\n",
       "      <td>Private Business, Government and Blockchain</td>\n",
       "      <td>100</td>\n",
       "      <td>Anar Babaev</td>\n",
       "    </tr>\n",
       "    <tr>\n",
       "      <th>3</th>\n",
       "      <td>2018-01-07</td>\n",
       "      <td>EPQ draft 1 (4844 words)\\nhttps://upload.wikim...</td>\n",
       "      <td>EPQ draft 1 (4844 words)</td>\n",
       "      <td>0</td>\n",
       "      <td>George Sykes</td>\n",
       "    </tr>\n",
       "    <tr>\n",
       "      <th>7</th>\n",
       "      <td>2018-03-08</td>\n",
       "      <td>Ascent of data Science, SAS and Big data Analy...</td>\n",
       "      <td>Ascent of data Science, SAS and Big data Analy...</td>\n",
       "      <td>0</td>\n",
       "      <td>tech data</td>\n",
       "    </tr>\n",
       "    <tr>\n",
       "      <th>11</th>\n",
       "      <td>2018-04-16</td>\n",
       "      <td>Can a robot love us better than another human ...</td>\n",
       "      <td>Can a robot love us better than another human ...</td>\n",
       "      <td>50</td>\n",
       "      <td>Stewart Alsop</td>\n",
       "    </tr>\n",
       "    <tr>\n",
       "      <th>16</th>\n",
       "      <td>2017-10-22</td>\n",
       "      <td>2017 Big Data, AI and IOT Use Cases\\nAn Active...</td>\n",
       "      <td>2017 Big Data, AI and IOT Use Cases</td>\n",
       "      <td>27</td>\n",
       "      <td>Melody Ucros</td>\n",
       "    </tr>\n",
       "  </tbody>\n",
       "</table>\n",
       "</div>"
      ],
      "text/plain": [
       "   firstPublishedDate                                               text  \\\n",
       "0          2018-09-18  Private Business, Government and Blockchain\\n\\...   \n",
       "3          2018-01-07  EPQ draft 1 (4844 words)\\nhttps://upload.wikim...   \n",
       "7          2018-03-08  Ascent of data Science, SAS and Big data Analy...   \n",
       "11         2018-04-16  Can a robot love us better than another human ...   \n",
       "16         2017-10-22  2017 Big Data, AI and IOT Use Cases\\nAn Active...   \n",
       "\n",
       "                                                title  totalClapCount  \\\n",
       "0         Private Business, Government and Blockchain             100   \n",
       "3                            EPQ draft 1 (4844 words)               0   \n",
       "7   Ascent of data Science, SAS and Big data Analy...               0   \n",
       "11  Can a robot love us better than another human ...              50   \n",
       "16                2017 Big Data, AI and IOT Use Cases              27   \n",
       "\n",
       "           author  \n",
       "0     Anar Babaev  \n",
       "3    George Sykes  \n",
       "7       tech data  \n",
       "11  Stewart Alsop  \n",
       "16   Melody Ucros  "
      ]
     },
     "execution_count": 228,
     "metadata": {},
     "output_type": "execute_result"
    }
   ],
   "source": [
    "traindata.head()"
   ]
  },
  {
   "cell_type": "markdown",
   "metadata": {},
   "source": [
    "I will clean the text and title (I might use title in the future because it's almost as important as text)"
   ]
  },
  {
   "cell_type": "code",
   "execution_count": null,
   "metadata": {},
   "outputs": [],
   "source": [
    "traindata_clean.head(10)"
   ]
  },
  {
   "cell_type": "markdown",
   "metadata": {},
   "source": [
    "First I was thinking about lemmatizing but after deciding on using Word2Vec, I have noticed keeping the number of entries in our data that I feed into gensim model small reduces execution times. Using lemmatization we get 3 versions (adjective, verb, noun) for 1 root.[2] These 3 different type of words most of the time have similar effects on the interpration of a sentence. Using stemmization instead gives us a 1 abbreviated version of these different type of words, which can be thought as the root of these different words."
   ]
  },
  {
   "cell_type": "code",
   "execution_count": null,
   "metadata": {},
   "outputs": [],
   "source": [
    "#def get_wordnet_pos(word):\n",
    "\n",
    " #   tag = nltk.pos_tag([word])[0][1][0].upper()\n",
    " #   tag_dict = {\"J\": wordnet.ADJ,\n",
    " #               \"N\": wordnet.NOUN,\n",
    " #               \"V\": wordnet.VERB,\n",
    " #               \"R\": wordnet.ADV}\n",
    "\n",
    "#    return tag_dict.get(tag, wordnet.NOUN)"
   ]
  },
  {
   "cell_type": "markdown",
   "metadata": {},
   "source": [
    "Next I define 3 functions for cleaning text, title and author columns seperately.\n",
    "\n",
    "They don't look totally the same because word size and diversity are different."
   ]
  },
  {
   "cell_type": "code",
   "execution_count": 7,
   "metadata": {},
   "outputs": [],
   "source": [
    "def clean_text(text):\n",
    "\n",
    "   # lemmatizer = WordNetLemmatizer()\n",
    "\n",
    "   ## Remove punctuation\n",
    "    #text = text.translate(string.punctuation) \n",
    "\n",
    " \n",
    "    text = re.sub(r\"[^A-Za-z0-9]\", \" \", text)\n",
    "    text = re.sub(r\" vc \", \"venture capital\", text)\n",
    "    text = re.sub(r\" VC \", \"venture capital\", text)\n",
    "    text = re.sub(r\" lr \", \"linear regression\", text)\n",
    "    text = re.sub(r\" dl \", \"deep learning\", text)\n",
    "    text = re.sub(r\" it \", \"information technology\", text)\n",
    "    text = re.sub(r\" nlp \", \"natural language processing\", text) \n",
    "    text = re.sub(r'(\\d+)([a-zA-Z])', '\\g<1> \\g<2>', text)\n",
    "    text = re.sub(r'(\\d+) (th|st|nd|rd) ', '\\g<1>\\g<2> ', text)\n",
    "    text = re.sub(r'(\\d+),(\\d+)', '\\g<1>\\g<2>', text)\n",
    "    text = re.sub(r'(\\d+)(e)(\\d+)','\\g<1> \\g<3>', text)\n",
    "    text = re.sub(r\" img \", \" image \", text)\n",
    "    text = re.sub(r\"\\0s\", \"0\", text)\n",
    "    text = re.sub(r\" 9 11 \", \"911\", text)\n",
    "    text = re.sub(r\" e mail\", \"email\", text)\n",
    "    text = re.sub(r\"\\s{2,}\", \" \", text)\n",
    "    text = re.sub(r\" usa \", \" america \", text)\n",
    "    text = re.sub(r\" u s \", \" america \", text)\n",
    "    text = re.sub(r\"the us\", \"america\", text)\n",
    "    text = re.sub(r\" uk \", \" england \", text)\n",
    "    text = re.sub(r\" dms \", \"direct messages \", text)  \n",
    "    text = re.sub(r\"\\0rs \", \" rs \", text) \n",
    "    text = re.sub(r\"ios\", \"apple operating system\", text)\n",
    "    text = re.sub(r\"programing\", \"programming\", text)\n",
    "    text = re.sub(r'[\\x00-\\x1f\\x7f-\\x9f\\xad]', '', text)\n",
    "    text = re.sub(r'(\\d+)(e)(\\d+)',r'\\g<1> \\g<3>', text)\n",
    "    text = re.sub(r\"(-+|\\.+)\\s?\", \"  \", text)\n",
    "    text = re.sub(r'ᴵ+', '', text) \n",
    "    text = re.sub(r\" ai \", \"artificial intelligence\", text)\n",
    "    text = re.sub(r\" nn \", \"neural networks\", text)\n",
    "    text = re.sub(r\" rnn \", \"recurrent neural networks\", text)\n",
    "    text = re.sub(r\" ml \", \"machine learning\", text)\n",
    "    text = re.sub(r\"start up\", \"startup\", text)\n",
    "    text = re.sub(r\"inteligencia artificial\", \"artificial intelligence\", text)\n",
    "    text = re.sub(r\"intelligence artificielle\", \"artificial intelligence\", text)    \n",
    "    text = re.sub(r\" vr \", \"virtual reality\", text)\n",
    "    text = re.sub(r\" tech \", \" technology \", text)\n",
    "    text = text.split()\n",
    "    text = [w for w in text if len(w) >= 2]\n",
    "    text = \" \".join(text)\n",
    "    \n",
    "\n",
    "   ## Convert words to lower case and split them\n",
    "    text = text.lower().split()\n",
    "    \n",
    "    ## Remove stop words\n",
    "    stops = set(stopwords.words(\"english\"))\n",
    "    text = [w for w in text if not w in stops and len(w) >= 2]\n",
    "    \n",
    "    text = \" \".join(text)\n",
    "            \n",
    "    text = text.split()\n",
    "    stemmer = SnowballStemmer('english')\n",
    "    stemmed_words = [stemmer.stem(word) for word in text]\n",
    "    text = \" \".join(stemmed_words)\n",
    "    \n",
    "    return(text) "
   ]
  },
  {
   "cell_type": "code",
   "execution_count": null,
   "metadata": {},
   "outputs": [],
   "source": [
    "traindata['text']= traindata['text'].astype(str)\n",
    "traindata_clean= traindata['text'].map(lambda x: clean_text(x))"
   ]
  },
  {
   "cell_type": "markdown",
   "metadata": {},
   "source": [
    "I will use texts only to build a dictionary, because I've noticed model results I get using only titles of articles is good enough (almost as good as using text data) and my models work twice as fast. Besides practical benefits, I believe title is a good predictor of the attention an article attracts.  I cleaned and used text column for gensim model because having a larger chunk of text to train the gensim model ensures a more reliable dictionary[3], (since text column has much more words, sentences and phrases) although makes training the model slower. It took my processor around 2 hours to give an output to gensim model. Therefore, I used pickle to save this model locally in my laptop.[4]"
   ]
  },
  {
   "cell_type": "code",
   "execution_count": 8,
   "metadata": {},
   "outputs": [],
   "source": [
    "def clean_title(text):\n",
    "\n",
    "\n",
    "\n",
    "    \n",
    "    text = re.sub(r'[^A-Za-z0-9]+', ' ', text)\n",
    "    \n",
    "    text = re.sub(r\" e mail\", \"email\", text)\n",
    "    text = re.sub(r\"\\s{2,}\", \" \", text)\n",
    "    text = re.sub(r\" usa \", \" america \", text)\n",
    "    text = re.sub(r\" u s \", \" america \", text)\n",
    "    text = re.sub(r\"the us\", \"america\", text)\n",
    "    text = re.sub(r\" uk \", \" england \", text)\n",
    "    text = re.sub(r\" dms \", \"direct messages \", text)  \n",
    "    text = re.sub(r\"\\0rs \", \" rs \", text) \n",
    "    text = re.sub(r\"ios\", \"apple operating system\", text)\n",
    "    text = re.sub(r\"programing\", \"programming\", text)\n",
    "    text = re.sub(r\" ai \", \"artificial intelligence\", text)\n",
    "    text = re.sub(r\" nn \", \"neural networks\", text)\n",
    "    text = re.sub(r\" rnn \", \"recurrent neural networks\", text)\n",
    "    text = re.sub(r\" ml \", \"machine learning\", text)\n",
    "    text = re.sub(r\"start up\", \"startup\", text)\n",
    "    text = re.sub(r\"inteligencia artificial\", \"artificial intelligence\", text)\n",
    "    text = re.sub(r\"intelligence artificielle\", \"artificial intelligence\", text)    \n",
    "    text = re.sub(r\" vr \", \"virtual reality\", text)\n",
    "    text = re.sub(r\" tech \", \" technology \", text)\n",
    "    text = text.lower().split()\n",
    "    stops = set(stopwords.words(\"english\"))\n",
    "    text = [w for w in text if not w in stops and len(w) >= 2]\n",
    "    \n",
    "    text = \" \".join(text)\n",
    "    \n",
    "    text = text.split()\n",
    "    stemmer = SnowballStemmer('english')\n",
    "    stemmed_words = [stemmer.stem(word) for word in text]\n",
    "    text = \" \".join(stemmed_words)\n",
    "    \n",
    "    return text"
   ]
  },
  {
   "cell_type": "code",
   "execution_count": 9,
   "metadata": {},
   "outputs": [
    {
     "name": "stdout",
     "output_type": "stream",
     "text": [
      "(49746, 5)\n",
      "(16583, 5)\n"
     ]
    },
    {
     "name": "stderr",
     "output_type": "stream",
     "text": [
      "C:\\Users\\osman\\anaconda3\\lib\\site-packages\\ipykernel_launcher.py:6: SettingWithCopyWarning: \n",
      "A value is trying to be set on a copy of a slice from a DataFrame.\n",
      "Try using .loc[row_indexer,col_indexer] = value instead\n",
      "\n",
      "See the caveats in the documentation: https://pandas.pydata.org/pandas-docs/stable/user_guide/indexing.html#returning-a-view-versus-a-copy\n",
      "  \n"
     ]
    }
   ],
   "source": [
    "train ,test = train_test_split(traindata, test_size=0.25, random_state=5)\n",
    "\n",
    "\n",
    "print(train.shape)\n",
    "print(test.shape)\n",
    "train['title'] = train['title'].replace(np.nan, '', regex=True)"
   ]
  },
  {
   "cell_type": "code",
   "execution_count": 193,
   "metadata": {},
   "outputs": [
    {
     "data": {
      "text/html": [
       "<div>\n",
       "<style scoped>\n",
       "    .dataframe tbody tr th:only-of-type {\n",
       "        vertical-align: middle;\n",
       "    }\n",
       "\n",
       "    .dataframe tbody tr th {\n",
       "        vertical-align: top;\n",
       "    }\n",
       "\n",
       "    .dataframe thead th {\n",
       "        text-align: right;\n",
       "    }\n",
       "</style>\n",
       "<table border=\"1\" class=\"dataframe\">\n",
       "  <thead>\n",
       "    <tr style=\"text-align: right;\">\n",
       "      <th></th>\n",
       "      <th>firstPublishedDate</th>\n",
       "      <th>text</th>\n",
       "      <th>title</th>\n",
       "      <th>totalClapCount</th>\n",
       "      <th>author</th>\n",
       "    </tr>\n",
       "  </thead>\n",
       "  <tbody>\n",
       "    <tr>\n",
       "      <th>0</th>\n",
       "      <td>2018-09-18</td>\n",
       "      <td>Private Business, Government and Blockchain\\n\\...</td>\n",
       "      <td>Private Business, Government and Blockchain</td>\n",
       "      <td>100</td>\n",
       "      <td>Anar Babaev</td>\n",
       "    </tr>\n",
       "    <tr>\n",
       "      <th>3</th>\n",
       "      <td>2018-01-07</td>\n",
       "      <td>EPQ draft 1 (4844 words)\\nhttps://upload.wikim...</td>\n",
       "      <td>EPQ draft 1 (4844 words)</td>\n",
       "      <td>0</td>\n",
       "      <td>George Sykes</td>\n",
       "    </tr>\n",
       "    <tr>\n",
       "      <th>7</th>\n",
       "      <td>2018-03-08</td>\n",
       "      <td>Ascent of data Science, SAS and Big data Analy...</td>\n",
       "      <td>Ascent of data Science, SAS and Big data Analy...</td>\n",
       "      <td>0</td>\n",
       "      <td>tech data</td>\n",
       "    </tr>\n",
       "    <tr>\n",
       "      <th>11</th>\n",
       "      <td>2018-04-16</td>\n",
       "      <td>Can a robot love us better than another human ...</td>\n",
       "      <td>Can a robot love us better than another human ...</td>\n",
       "      <td>50</td>\n",
       "      <td>Stewart Alsop</td>\n",
       "    </tr>\n",
       "    <tr>\n",
       "      <th>16</th>\n",
       "      <td>2017-10-22</td>\n",
       "      <td>2017 Big Data, AI and IOT Use Cases\\nAn Active...</td>\n",
       "      <td>2017 Big Data, AI and IOT Use Cases</td>\n",
       "      <td>27</td>\n",
       "      <td>Melody Ucros</td>\n",
       "    </tr>\n",
       "  </tbody>\n",
       "</table>\n",
       "</div>"
      ],
      "text/plain": [
       "   firstPublishedDate                                               text  \\\n",
       "0          2018-09-18  Private Business, Government and Blockchain\\n\\...   \n",
       "3          2018-01-07  EPQ draft 1 (4844 words)\\nhttps://upload.wikim...   \n",
       "7          2018-03-08  Ascent of data Science, SAS and Big data Analy...   \n",
       "11         2018-04-16  Can a robot love us better than another human ...   \n",
       "16         2017-10-22  2017 Big Data, AI and IOT Use Cases\\nAn Active...   \n",
       "\n",
       "                                                title  totalClapCount  \\\n",
       "0         Private Business, Government and Blockchain             100   \n",
       "3                            EPQ draft 1 (4844 words)               0   \n",
       "7   Ascent of data Science, SAS and Big data Analy...               0   \n",
       "11  Can a robot love us better than another human ...              50   \n",
       "16                2017 Big Data, AI and IOT Use Cases              27   \n",
       "\n",
       "           author  \n",
       "0     Anar Babaev  \n",
       "3    George Sykes  \n",
       "7       tech data  \n",
       "11  Stewart Alsop  \n",
       "16   Melody Ucros  "
      ]
     },
     "execution_count": 193,
     "metadata": {},
     "output_type": "execute_result"
    }
   ],
   "source": [
    "traindata.head()"
   ]
  },
  {
   "cell_type": "markdown",
   "metadata": {},
   "source": [
    "## Cleaning title and author columns"
   ]
  },
  {
   "cell_type": "markdown",
   "metadata": {},
   "source": [
    "I want to use title and author columns to build my model and predict clap counts. That means I have to transform the raw text into a readable string data, which then I can feed into my LSTM model. I have to remove punctuation and numbers, change upper case letters to lower case. Lastly I need to split these chunk of texts into words and get the stemmed versions of these words. [5] "
   ]
  },
  {
   "cell_type": "code",
   "execution_count": 42,
   "metadata": {
    "collapsed": true
   },
   "outputs": [
    {
     "name": "stderr",
     "output_type": "stream",
     "text": [
      "C:\\Users\\osman\\anaconda3\\lib\\site-packages\\ipykernel_launcher.py:1: SettingWithCopyWarning: \n",
      "A value is trying to be set on a copy of a slice from a DataFrame.\n",
      "Try using .loc[row_indexer,col_indexer] = value instead\n",
      "\n",
      "See the caveats in the documentation: https://pandas.pydata.org/pandas-docs/stable/user_guide/indexing.html#returning-a-view-versus-a-copy\n",
      "  \"\"\"Entry point for launching an IPython kernel.\n",
      "C:\\Users\\osman\\anaconda3\\lib\\site-packages\\ipykernel_launcher.py:2: SettingWithCopyWarning: \n",
      "A value is trying to be set on a copy of a slice from a DataFrame.\n",
      "Try using .loc[row_indexer,col_indexer] = value instead\n",
      "\n",
      "See the caveats in the documentation: https://pandas.pydata.org/pandas-docs/stable/user_guide/indexing.html#returning-a-view-versus-a-copy\n",
      "  \n",
      "C:\\Users\\osman\\anaconda3\\lib\\site-packages\\ipykernel_launcher.py:4: SettingWithCopyWarning: \n",
      "A value is trying to be set on a copy of a slice from a DataFrame.\n",
      "Try using .loc[row_indexer,col_indexer] = value instead\n",
      "\n",
      "See the caveats in the documentation: https://pandas.pydata.org/pandas-docs/stable/user_guide/indexing.html#returning-a-view-versus-a-copy\n",
      "  after removing the cwd from sys.path.\n",
      "C:\\Users\\osman\\anaconda3\\lib\\site-packages\\ipykernel_launcher.py:5: SettingWithCopyWarning: \n",
      "A value is trying to be set on a copy of a slice from a DataFrame.\n",
      "Try using .loc[row_indexer,col_indexer] = value instead\n",
      "\n",
      "See the caveats in the documentation: https://pandas.pydata.org/pandas-docs/stable/user_guide/indexing.html#returning-a-view-versus-a-copy\n",
      "  \"\"\"\n"
     ]
    }
   ],
   "source": [
    "train['title']= train['title'].astype(str)\n",
    "train['title']= train['title'].map(lambda x: clean_title(x))\n",
    "\n",
    "test['title']= test['title'].astype(str)\n",
    "test['title']= test['title'].map(lambda x: clean_title(x))\n"
   ]
  },
  {
   "cell_type": "code",
   "execution_count": 245,
   "metadata": {},
   "outputs": [
    {
     "data": {
      "text/plain": [
       "185881                        unbox outlier machin learn\n",
       "113869    explor predict airbnb rental price austin texa\n",
       "172867                                   glass eat world\n",
       "199800                      commodit underfund lean good\n",
       "195851       atn becom ginco japan first airdrop partner\n",
       "Name: title, dtype: object"
      ]
     },
     "execution_count": 245,
     "metadata": {},
     "output_type": "execute_result"
    }
   ],
   "source": [
    "train['title'].head()"
   ]
  },
  {
   "cell_type": "code",
   "execution_count": 11,
   "metadata": {},
   "outputs": [],
   "source": [
    "x_train = train['title']\n",
    "y_train = train['totalClapCount']\n",
    "x_test = test['title']\n",
    "y_test = test['totalClapCount']"
   ]
  },
  {
   "cell_type": "code",
   "execution_count": 151,
   "metadata": {},
   "outputs": [],
   "source": [
    "#clean authors\n",
    "def clean_authors(text):\n",
    "    \n",
    "    ## Remove punctuation\n",
    "    text = text.translate(string.punctuation) \n",
    "\n",
    "    #clean punctuations and numbers etc\n",
    "    text = re.sub(r\"[^A-Za-z0-9]\", \"\", text)\n",
    "\n",
    "    ## Convert words to lower case and split them\n",
    "    text = text.lower().split()\n",
    "    \n",
    "    #merge the entire name to make it a unique key\n",
    "    text = \"\".join(text)\n",
    "    \n",
    "    return text"
   ]
  },
  {
   "cell_type": "code",
   "execution_count": 152,
   "metadata": {},
   "outputs": [
    {
     "name": "stderr",
     "output_type": "stream",
     "text": [
      "C:\\Users\\osman\\anaconda3\\lib\\site-packages\\ipykernel_launcher.py:1: SettingWithCopyWarning: \n",
      "A value is trying to be set on a copy of a slice from a DataFrame.\n",
      "Try using .loc[row_indexer,col_indexer] = value instead\n",
      "\n",
      "See the caveats in the documentation: https://pandas.pydata.org/pandas-docs/stable/user_guide/indexing.html#returning-a-view-versus-a-copy\n",
      "  \"\"\"Entry point for launching an IPython kernel.\n",
      "C:\\Users\\osman\\anaconda3\\lib\\site-packages\\ipykernel_launcher.py:2: SettingWithCopyWarning: \n",
      "A value is trying to be set on a copy of a slice from a DataFrame.\n",
      "Try using .loc[row_indexer,col_indexer] = value instead\n",
      "\n",
      "See the caveats in the documentation: https://pandas.pydata.org/pandas-docs/stable/user_guide/indexing.html#returning-a-view-versus-a-copy\n",
      "  \n",
      "C:\\Users\\osman\\anaconda3\\lib\\site-packages\\ipykernel_launcher.py:4: SettingWithCopyWarning: \n",
      "A value is trying to be set on a copy of a slice from a DataFrame.\n",
      "Try using .loc[row_indexer,col_indexer] = value instead\n",
      "\n",
      "See the caveats in the documentation: https://pandas.pydata.org/pandas-docs/stable/user_guide/indexing.html#returning-a-view-versus-a-copy\n",
      "  after removing the cwd from sys.path.\n",
      "C:\\Users\\osman\\anaconda3\\lib\\site-packages\\ipykernel_launcher.py:5: SettingWithCopyWarning: \n",
      "A value is trying to be set on a copy of a slice from a DataFrame.\n",
      "Try using .loc[row_indexer,col_indexer] = value instead\n",
      "\n",
      "See the caveats in the documentation: https://pandas.pydata.org/pandas-docs/stable/user_guide/indexing.html#returning-a-view-versus-a-copy\n",
      "  \"\"\"\n"
     ]
    }
   ],
   "source": [
    "train['author']= train['author'].astype(str)\n",
    "train['author']= train['author'].map(lambda x: clean_authors(x))\n",
    "\n",
    "test['author']= test['author'].astype(str)\n",
    "test['author']= test['author'].map(lambda x: clean_authors(x))\n",
    "\n"
   ]
  },
  {
   "cell_type": "markdown",
   "metadata": {},
   "source": [
    "## Tokenization and Padding"
   ]
  },
  {
   "cell_type": "markdown",
   "metadata": {},
   "source": [
    "After getting a text as a whole, we have to seperate words distinctly to perform an analysis. [6] We have to identify tokens as basic units. This process will attach a unique matrix to every distinct word. We need to know how many words we have in our dictionary to keep this matrix as small as possible without losing any information. Then we have to pad (add 0's at the end of this matrix sequence in order to make the samples same size) to feed into our LSTM model."
   ]
  },
  {
   "cell_type": "code",
   "execution_count": 91,
   "metadata": {},
   "outputs": [],
   "source": [
    "vocab_size = 90427\n",
    "tokenizer_obj = Tokenizer(num_words= vocab_size)\n",
    "tokenizer_obj.fit_on_texts(train['title'])\n",
    "tokenized_train = tokenizer_obj.texts_to_sequences(train['title'])\n",
    "\n",
    "tokenizer_obj.fit_on_texts(test['title'])\n",
    "tokenized_test = tokenizer_obj.texts_to_sequences(test['title'])\n",
    "\n",
    "padded_train = pad_sequences(tokenized_train,10)\n",
    "padded_test = pad_sequences(tokenized_test,10)\n",
    "\n",
    "train_title_padded = np.flip(padded_train, axis=1) \n",
    "test_title_padded = np.flip(padded_test, axis=1)"
   ]
  },
  {
   "cell_type": "code",
   "execution_count": 155,
   "metadata": {},
   "outputs": [],
   "source": [
    "vocab_size = 90427\n",
    "tokenizer_obj = Tokenizer(num_words= vocab_size)\n",
    "tokenizer_obj.fit_on_texts(train['author'])\n",
    "tokenized_train1 = tokenizer_obj.texts_to_sequences(train['author'])\n",
    "\n",
    "tokenizer_obj.fit_on_texts(test['author'])\n",
    "tokenized_test1 = tokenizer_obj.texts_to_sequences(test['author'])\n",
    "\n",
    "padded_train1 = pad_sequences(tokenized_train1,1)\n",
    "padded_test1 = pad_sequences(tokenized_test1,1)\n",
    "\n",
    "train_author_padded = np.flip(padded_train1, axis=1) \n",
    "test_author_padded = np.flip(padded_test1, axis=1)"
   ]
  },
  {
   "cell_type": "markdown",
   "metadata": {},
   "source": [
    "## Constructing a word to vector dictionary"
   ]
  },
  {
   "cell_type": "markdown",
   "metadata": {},
   "source": [
    "As I explained above I've used text column of training data to construct a dictionary. In other words this model will find frequently occuring words in the text and assign them a unique matrix based on their affiliation to other words(how frequently they are used together in a particular window).[7] As an example you can see the values attached to the word 'outlier' by our gensim model. I will use this dictionary for embedding in the future. I have tried several min_count values whilst running the gensim model. When I put 1 as min_count(smallest possible value), I had 200 thousand words in my word to vector dictionary. As I have more words in my dictionary, my probability to encounter out-of-vocabulary words diminishes. But I noticed my execution times grew a lot, which made me change min_count value to 3. As a result I got a dictionary of size 90427 and encountered 1399 out-of-vocabulary words. I think both of these values are reasonable and acceptable. I could use a smaller dictionary (around 20000 words) by making min_count equal to 5 but that increased my out-of-vocabulary words to 2000. In the end I made the choice of choosing min_account=3. Afterwards I saved this model with pickle as I explained above and can access it always without having to construct the dictionary again. (which takes around 2 hour)"
   ]
  },
  {
   "cell_type": "code",
   "execution_count": null,
   "metadata": {},
   "outputs": [],
   "source": [
    "from gensim.models import Word2Vec\n",
    "\n",
    "traindata_split = traindata_clean.apply(lambda x: ([word for word in x.split()]))\n",
    "\n",
    "emb_dim = 100  # embedding dimension\n",
    "# Train a Word2Vec model\n",
    "wordmodel = Word2Vec(traindata_split, \n",
    "                 min_count=3,  #min_count means the frequency benchmark, if =2 and word is used only once - it's not included\n",
    "                 window=5,     #the size of context\n",
    "                 iter=100,     #how many times the training code will run through the data set, same as epochs (first pass is to create dict)\n",
    "                 size=emb_dim, #size of embedding\n",
    "                 workers=2)    #for parallel computing\n",
    "# summarize the loaded model\n",
    "print(wordmodel)\n",
    "words=list(model.wv.vocab)"
   ]
  },
  {
   "cell_type": "code",
   "execution_count": null,
   "metadata": {},
   "outputs": [],
   "source": [
    "with open('word_model.pkl','wb') as file_name:\n",
    "    pickle.dump(wordmodel, file_name)"
   ]
  },
  {
   "cell_type": "code",
   "execution_count": 13,
   "metadata": {},
   "outputs": [],
   "source": [
    "with open('word_model.pkl','rb') as file_name:\n",
    "    wordmodel = pickle.load(file_name)"
   ]
  },
  {
   "cell_type": "code",
   "execution_count": null,
   "metadata": {},
   "outputs": [],
   "source": [
    "train['title']"
   ]
  },
  {
   "cell_type": "code",
   "execution_count": 57,
   "metadata": {},
   "outputs": [
    {
     "data": {
      "text/plain": [
       "array([ 1.1681366e+00,  2.8420877e+00, -1.8984243e+00,  2.9960132e+00,\n",
       "       -4.9113780e-01,  7.2467208e+00,  4.5941319e+00, -3.0678000e+00,\n",
       "        1.4543171e+00,  5.7063184e+00,  9.1912568e-01, -8.5610700e-01,\n",
       "        8.8804334e-01,  1.1335850e+00,  2.0034747e+00,  3.6353786e+00,\n",
       "       -2.8020685e+00, -4.0612087e+00,  1.8741753e+00,  1.5246832e+00,\n",
       "       -3.0242450e+00, -3.0975685e+00,  2.1715033e+00, -1.7753595e+00,\n",
       "        1.2660491e+00, -1.7024339e+00,  5.4502821e-01, -7.7594682e-03,\n",
       "        6.0463471e+00,  4.7408929e+00, -3.0540552e+00, -8.2540053e-01,\n",
       "        4.4559216e-01,  1.6174563e+00, -2.6459472e+00, -1.3813677e+00,\n",
       "       -7.8424829e-01,  2.6217144e+00, -2.6221321e+00, -2.6689641e+00,\n",
       "        1.8063836e+00, -1.3759991e+00, -2.4478767e+00, -1.4037302e+00,\n",
       "        1.1022249e+00, -1.2373178e+00, -7.0133671e-02, -4.3108430e+00,\n",
       "       -1.4100891e+00, -2.8266528e+00, -1.6323373e+00, -1.6347095e-01,\n",
       "        2.7470338e+00, -3.8014688e+00,  8.2328405e+00, -4.2804546e+00,\n",
       "       -3.8317995e+00,  5.3900776e+00, -3.6198919e+00,  4.2643443e-01,\n",
       "        8.6092627e-01,  3.8452811e+00, -3.1144733e+00,  1.0130600e+00,\n",
       "        1.5613202e+00,  1.5008905e+00,  4.1253135e-01, -4.0653076e+00,\n",
       "       -4.0143013e+00,  1.7109691e+00,  5.4688196e+00, -3.8279455e+00,\n",
       "       -3.8962197e+00, -2.0376904e+00,  1.2273041e+00,  2.6008825e+00,\n",
       "        3.2419088e-01,  1.5089163e+00, -4.1381845e+00,  1.8740276e+00,\n",
       "        2.2472816e+00, -4.6335025e+00, -4.6328588e+00,  2.3954737e+00,\n",
       "       -1.6541719e+00,  2.4649518e+00, -4.5514183e+00,  3.5531163e+00,\n",
       "        2.3744357e+00, -4.0281339e+00, -1.8248947e+00, -2.7364966e-01,\n",
       "       -2.5973656e+00,  1.3583792e+00,  2.7996140e+00, -2.3363981e+00,\n",
       "       -1.6034182e+00, -4.0515571e+00, -2.2757943e+00, -4.3170590e+00],\n",
       "      dtype=float32)"
      ]
     },
     "execution_count": 57,
     "metadata": {},
     "output_type": "execute_result"
    }
   ],
   "source": [
    "# Option a) save in such a way that you can continue training later\n",
    "embs=\"word_model.wordmodel\"\n",
    "wordmodel.save(embs)\n",
    "\n",
    "# Overwrite variable to show that loading works\n",
    "\n",
    "# Load model from disk\n",
    "wordmodel =  Word2Vec.load(embs)\n",
    "wordmodel.wv['outlier']\n"
   ]
  },
  {
   "cell_type": "code",
   "execution_count": 58,
   "metadata": {},
   "outputs": [
    {
     "data": {
      "text/plain": [
       "<gensim.models.keyedvectors.Word2VecKeyedVectors at 0x242d8d6ba48>"
      ]
     },
     "execution_count": 58,
     "metadata": {},
     "output_type": "execute_result"
    }
   ],
   "source": [
    "wordmodel.wv"
   ]
  },
  {
   "cell_type": "code",
   "execution_count": 14,
   "metadata": {},
   "outputs": [],
   "source": [
    "from gensim.models import KeyedVectors\n",
    "from gensim.models.keyedvectors import Word2VecKeyedVectors"
   ]
  },
  {
   "cell_type": "markdown",
   "metadata": {},
   "source": [
    "## SMOTE\n"
   ]
  },
  {
   "cell_type": "markdown",
   "metadata": {},
   "source": [
    "We have to apply a method to solve problems caused by imbalanced learning. SMOTE can be applied but first we have to divide instances into categories, since SMOTE is only available for class imbalances. The new data created by oversampling is done by interpolation of several minority class entries that are within a defined range.[10] This helps our model to be more generalized and give out better results for the test data, while creating synthetic data not just replications of the data on hand. I have also used SMOTETomek so that I apply both oversampling and undersampling. After applying SMOTE to balance the classes I got 301930 entries, whereas when I used SMOTETomek I got 299144. It doesn't seem like a big difference so I used SMOTE in the models because it is a more mainstream method. I also have to reset indices, otherwise I get an error because they are not the same type. (float vs string)"
   ]
  },
  {
   "cell_type": "code",
   "execution_count": 164,
   "metadata": {},
   "outputs": [],
   "source": [
    "train_padded1 = pd.DataFrame(data=train_title_padded, columns=['zero','one','two','three','four','five','six','seven','eight','nine'])\n"
   ]
  },
  {
   "cell_type": "code",
   "execution_count": 16,
   "metadata": {},
   "outputs": [
    {
     "name": "stderr",
     "output_type": "stream",
     "text": [
      "C:\\Users\\osman\\anaconda3\\lib\\site-packages\\ipykernel_launcher.py:1: SettingWithCopyWarning: \n",
      "A value is trying to be set on a copy of a slice from a DataFrame.\n",
      "Try using .loc[row_indexer,col_indexer] = value instead\n",
      "\n",
      "See the caveats in the documentation: https://pandas.pydata.org/pandas-docs/stable/user_guide/indexing.html#returning-a-view-versus-a-copy\n",
      "  \"\"\"Entry point for launching an IPython kernel.\n"
     ]
    }
   ],
   "source": [
    "train['classes'] = train['totalClapCount'].apply(lambda x: 0 if 0 <= x <= 20 else 1 if 20 < x <= 50 else 2 if 50 < x <= 100 else 3 if 100 < x <= 200 else 4 if 200 < x <= 1000 else 5 if 1000 < x <= 2000 else 6 if 2000 < x <= 5000 else 7 if 5000 < x <= 10000 else 8 if 10000 < x <= 50000 else 9)"
   ]
  },
  {
   "cell_type": "code",
   "execution_count": 17,
   "metadata": {},
   "outputs": [],
   "source": [
    "train_padded1.reset_index(drop=True, inplace=True)"
   ]
  },
  {
   "cell_type": "code",
   "execution_count": 172,
   "metadata": {},
   "outputs": [],
   "source": [
    "from collections import Counter\n",
    "from sklearn.datasets import make_classification\n",
    "\n",
    "from imblearn.combine import SMOTETomek \n",
    "from imblearn.over_sampling import SMOTE\n"
   ]
  },
  {
   "cell_type": "code",
   "execution_count": 110,
   "metadata": {},
   "outputs": [],
   "source": [
    "smote_data= pd.concat([train_padded1], axis=1)\n",
    "claps = train['totalClapCount'].reset_index(drop=True, inplace=False)\n",
    "smote_data['claps']= claps\n",
    "train_classes=train['classes']"
   ]
  },
  {
   "cell_type": "code",
   "execution_count": null,
   "metadata": {},
   "outputs": [],
   "source": [
    "from collections import Counter\n",
    "from sklearn.datasets import make_classification\n",
    "\n",
    "from imblearn.combine import SMOTETomek \n"
   ]
  },
  {
   "cell_type": "code",
   "execution_count": 111,
   "metadata": {},
   "outputs": [],
   "source": [
    "smote = SMOTE(random_state=54)\n",
    "x_train, y_train =smote.fit_sample(smote_data, train_classes)\n"
   ]
  },
  {
   "cell_type": "code",
   "execution_count": 112,
   "metadata": {},
   "outputs": [
    {
     "data": {
      "text/plain": [
       "([<matplotlib.axis.XTick at 0x242bf780cc8>,\n",
       "  <matplotlib.axis.XTick at 0x242a3a97b08>,\n",
       "  <matplotlib.axis.XTick at 0x2429b0bd408>,\n",
       "  <matplotlib.axis.XTick at 0x242bf7a8a48>,\n",
       "  <matplotlib.axis.XTick at 0x2429ac10548>,\n",
       "  <matplotlib.axis.XTick at 0x2429ac10b08>,\n",
       "  <matplotlib.axis.XTick at 0x2429ac26448>,\n",
       "  <matplotlib.axis.XTick at 0x2429ac26c08>,\n",
       "  <matplotlib.axis.XTick at 0x2429ac2f288>,\n",
       "  <matplotlib.axis.XTick at 0x2429ac2f9c8>],\n",
       " <a list of 10 Text xticklabel objects>)"
      ]
     },
     "execution_count": 112,
     "metadata": {},
     "output_type": "execute_result"
    },
    {
     "data": {
      "image/png": "[encoded data removed]",
      "text/plain": [
       "<Figure size 1080x720 with 1 Axes>"
      ]
     },
     "metadata": {
      "needs_background": "light"
     },
     "output_type": "display_data"
    }
   ],
   "source": [
    "classes = y_train\n",
    "fig, ax1 = plt.subplots(1, 1, figsize = (15, 10))\n",
    "ax1.hist(classes, 20, label = 'scores', alpha = 0.5)\n",
    "ax1.legend()\n",
    "plt.xticks([0,1,2,3,4,5,6,7,8,9], [\"0\",\"1\",\"2\",\"3\",\"4\",\"5\",\"6\",\"7\",\"8\",\"9\"])"
   ]
  },
  {
   "cell_type": "markdown",
   "metadata": {},
   "source": [
    "As you can see each class (which I constured for clap counts) now have same number of elements. I know from my preliminary descriptive analytics in our initial data most of the articles got claps between 0-20."
   ]
  },
  {
   "cell_type": "markdown",
   "metadata": {},
   "source": [
    "## SMOGN instead of SMOTE"
   ]
  },
  {
   "cell_type": "markdown",
   "metadata": {},
   "source": [
    "SMOTE method increases my number of entries 7 times. (300000 entries) This means a lot of synthetic (by SMOTE created) entries in my data frame. To solve this problem I searched for alternative solutions to imbalanced learning problem. I encountered smogn approach as a preprocessing approach. [8] It uses both oversampling and undersampling and after using smogn my number of entries stayed around the same level (42527 entries). Also while using smogn we don't have to create classes as opposed to SMOTE.  However, when I used smogn it took my laptop 19 hours to go through whole training data and I believe this damages replicability of my code. Hence, I used data frame I got using SMOTE to feed into my models."
   ]
  },
  {
   "cell_type": "code",
   "execution_count": 71,
   "metadata": {},
   "outputs": [
    {
     "name": "stdout",
     "output_type": "stream",
     "text": [
      "Requirement already satisfied: smogn in c:\\users\\osman\\anaconda3\\lib\\site-packages (0.1.2)\n",
      "Requirement already satisfied: tqdm in c:\\users\\osman\\anaconda3\\lib\\site-packages (from smogn) (4.42.1)\n",
      "Requirement already satisfied: pandas in c:\\users\\osman\\anaconda3\\lib\\site-packages (from smogn) (1.0.1)\n",
      "Requirement already satisfied: numpy in c:\\users\\osman\\anaconda3\\lib\\site-packages (from smogn) (1.18.1)\n",
      "Requirement already satisfied: python-dateutil>=2.6.1 in c:\\users\\osman\\anaconda3\\lib\\site-packages (from pandas->smogn) (2.8.1)\n",
      "Requirement already satisfied: pytz>=2017.2 in c:\\users\\osman\\anaconda3\\lib\\site-packages (from pandas->smogn) (2019.3)\n",
      "Requirement already satisfied: six>=1.5 in c:\\users\\osman\\anaconda3\\lib\\site-packages (from python-dateutil>=2.6.1->pandas->smogn) (1.14.0)\n"
     ]
    }
   ],
   "source": [
    "!pip install smogn\n",
    "import smogn\n",
    "from smogn.phi import phi\n",
    "from smogn.phi_ctrl_pts import phi_ctrl_pts\n",
    "from smogn.over_sampling import over_sampling"
   ]
  },
  {
   "cell_type": "code",
   "execution_count": 72,
   "metadata": {},
   "outputs": [],
   "source": [
    "smogndata= pd.concat([train_padded1], axis=1)\n",
    "smogndata[\"claps\"] = claps"
   ]
  },
  {
   "cell_type": "code",
   "execution_count": 68,
   "metadata": {},
   "outputs": [],
   "source": [
    "smogn= pd.concat([train_padded1], axis=1)\n",
    "smogn[\"claps\"] = claps"
   ]
  },
  {
   "cell_type": "code",
   "execution_count": 73,
   "metadata": {},
   "outputs": [
    {
     "name": "stderr",
     "output_type": "stream",
     "text": [
      "dist_matrix: 100%|##########| 7219/7219 [19:20:41<00:00,  9.65s/it]       \n",
      "synth_matrix: 100%|##########| 7219/7219 [00:44<00:00, 162.01it/s]\n",
      "r_index: 100%|##########| 3216/3216 [00:10<00:00, 294.71it/s]\n"
     ]
    }
   ],
   "source": [
    "smogn_balance = smogn.smoter(data= smogndata, y=\"claps\", k=5, rel_thres= 0.80, rel_method=\"auto\", rel_xtrm_type=\"high\", rel_coef= 2.25)"
   ]
  },
  {
   "cell_type": "code",
   "execution_count": 74,
   "metadata": {},
   "outputs": [],
   "source": [
    "with open('smogn_text.pkl','wb') as file_name:\n",
    "    pickle.dump(smogn_balance, file_name)"
   ]
  },
  {
   "cell_type": "code",
   "execution_count": 75,
   "metadata": {},
   "outputs": [
    {
     "name": "stdout",
     "output_type": "stream",
     "text": [
      "count     42527.000000\n",
      "mean        601.473346\n",
      "std        3915.832620\n",
      "min           0.000000\n",
      "25%           7.000000\n",
      "50%         197.000000\n",
      "75%         401.000000\n",
      "max      291793.000000\n",
      "Name: claps, dtype: float64\n"
     ]
    }
   ],
   "source": [
    "print(smogn_balance[\"claps\"].describe())"
   ]
  },
  {
   "cell_type": "code",
   "execution_count": 77,
   "metadata": {},
   "outputs": [
    {
     "name": "stdout",
     "output_type": "stream",
     "text": [
      "(42527, 10)\n"
     ]
    },
    {
     "data": {
      "text/plain": [
       "array([[  184,     0,     0, ...,     0,     0,   155],\n",
       "       [  173,     0,     0, ...,     0,     0,   162],\n",
       "       [  563,     0,     0, ...,     0,     0,   169],\n",
       "       ...,\n",
       "       [10632,    41,     0, ...,     0,     0,   170],\n",
       "       [    9,   161,     0, ...,     0,     0,     0],\n",
       "       [  684,     0,     0, ...,     0,     0,     3]], dtype=int64)"
      ]
     },
     "execution_count": 77,
     "metadata": {},
     "output_type": "execute_result"
    }
   ],
   "source": [
    "smogn_title = smogn_balance.iloc[:,1:11]\n",
    "smogn_title = np.array(smogn_title)\n",
    "print(smogn_title.shape)\n",
    "smogn_title"
   ]
  },
  {
   "cell_type": "code",
   "execution_count": null,
   "metadata": {},
   "outputs": [],
   "source": [
    "sg_author_tr = np.matrix(smogn_balance[\"author\"]).transpose()\n",
    "sg_author_tr.shape"
   ]
  },
  {
   "cell_type": "code",
   "execution_count": 85,
   "metadata": {},
   "outputs": [
    {
     "data": {
      "text/plain": [
       "(0,)"
      ]
     },
     "execution_count": 85,
     "metadata": {},
     "output_type": "execute_result"
    }
   ],
   "source": [
    "smogn_claps = smogn_balance['claps']\n",
    "smogn_claps[smogn_claps<0].shape"
   ]
  },
  {
   "cell_type": "code",
   "execution_count": 86,
   "metadata": {},
   "outputs": [],
   "source": [
    "smogn_title[smogn_title<0]=1"
   ]
  },
  {
   "cell_type": "code",
   "execution_count": 88,
   "metadata": {},
   "outputs": [],
   "source": [
    "smogn_title[smogn_title>90426]=90426"
   ]
  },
  {
   "cell_type": "markdown",
   "metadata": {},
   "source": [
    "## Embedding"
   ]
  },
  {
   "cell_type": "markdown",
   "metadata": {},
   "source": [
    "We use a Keras embedding layer  as the first layer so I get a meaningful vector for each word on the same subspace. Here there are several decisions to be made, such as the input length of our layer. As I looked at the length of titles in the descriptive analytics, I noticed most of the titles have word counts less than 10. I chose input_length as 10 because I think that value is optimal to cover most of the titles and keep model size smaller. "
   ]
  },
  {
   "cell_type": "code",
   "execution_count": 22,
   "metadata": {},
   "outputs": [],
   "source": [
    "def get_embedding_matrix(tokenizer, pretrain, vocab_size):\n",
    "    '''\n",
    "        Helper function to construct an embedding matrix for \n",
    "        the focal corpus based on some pre-trained embeddings.\n",
    "    '''\n",
    "    \n",
    "    dim = 0\n",
    "    if isinstance(pretrain, KeyedVectors) or isinstance(pretrain, Word2VecKeyedVectors):\n",
    "        dim = pretrain.vector_size        \n",
    "    elif isinstance(pretrain, dict):\n",
    "        dim = next(iter(pretrain.values())).shape[0]  # get embedding of an arbitrary word\n",
    "    else:\n",
    "        raise Exception('{} is not supported'.format(type(pretrain)))\n",
    "    \n",
    "\n",
    "    emb_mat = np.zeros((vocab_size, dim))\n",
    "\n",
    "    oov_words = []\n",
    "\n",
    "    for word, i in tokenizer.word_index.items():  \n",
    "        try:\n",
    "            emb_mat[i] = pretrain[word]\n",
    "        except:\n",
    "            oov_words.append(word)\n",
    "    print('Created embedding matrix of shape {}'.format(emb_mat.shape))\n",
    "    print('Encountered {} out-of-vocabulary words.'.format(len(oov_words)))\n",
    "    return (emb_mat, oov_words)"
   ]
  },
  {
   "cell_type": "code",
   "execution_count": 23,
   "metadata": {},
   "outputs": [
    {
     "name": "stdout",
     "output_type": "stream",
     "text": [
      "Created embedding matrix of shape (90427, 100)\n",
      "Encountered 1399 out-of-vocabulary words.\n"
     ]
    }
   ],
   "source": [
    "embed_weights, _ = get_embedding_matrix(tokenizer_obj, wordmodel.wv, 90427)\n"
   ]
  },
  {
   "cell_type": "markdown",
   "metadata": {},
   "source": [
    "## LSTM Model based only on title column"
   ]
  },
  {
   "cell_type": "markdown",
   "metadata": {},
   "source": [
    "I used recurrent neural networks as my first model, which is a class of networks designed to address these problems by processing sequences explicitly as sequences, allowing us to handle variable length inputs without the use of arbitrary fixed-sized windows.[9]. As the activation functions I choose ReLu, since it increases the computation speed when choosen over other alternatives such as tanh. Also ReLu function prevents us from predicting negative values, which is very suitable considering clap value an article gets cannot be below 0. I used LSTM over RNN since it has feedback connections, which helps control the outputs more easily. On the other hand it increases complexity."
   ]
  },
  {
   "cell_type": "code",
   "execution_count": 114,
   "metadata": {},
   "outputs": [
    {
     "data": {
      "text/html": [
       "<div>\n",
       "<style scoped>\n",
       "    .dataframe tbody tr th:only-of-type {\n",
       "        vertical-align: middle;\n",
       "    }\n",
       "\n",
       "    .dataframe tbody tr th {\n",
       "        vertical-align: top;\n",
       "    }\n",
       "\n",
       "    .dataframe thead th {\n",
       "        text-align: right;\n",
       "    }\n",
       "</style>\n",
       "<table border=\"1\" class=\"dataframe\">\n",
       "  <thead>\n",
       "    <tr style=\"text-align: right;\">\n",
       "      <th></th>\n",
       "      <th>zero</th>\n",
       "      <th>one</th>\n",
       "      <th>two</th>\n",
       "      <th>three</th>\n",
       "      <th>four</th>\n",
       "      <th>five</th>\n",
       "      <th>six</th>\n",
       "      <th>seven</th>\n",
       "      <th>eight</th>\n",
       "      <th>nine</th>\n",
       "    </tr>\n",
       "  </thead>\n",
       "  <tbody>\n",
       "    <tr>\n",
       "      <th>0</th>\n",
       "      <td>150</td>\n",
       "      <td>581</td>\n",
       "      <td>0</td>\n",
       "      <td>0</td>\n",
       "      <td>0</td>\n",
       "      <td>0</td>\n",
       "      <td>0</td>\n",
       "      <td>0</td>\n",
       "      <td>0</td>\n",
       "      <td>0</td>\n",
       "    </tr>\n",
       "    <tr>\n",
       "      <th>1</th>\n",
       "      <td>10982</td>\n",
       "      <td>6</td>\n",
       "      <td>0</td>\n",
       "      <td>0</td>\n",
       "      <td>0</td>\n",
       "      <td>0</td>\n",
       "      <td>0</td>\n",
       "      <td>0</td>\n",
       "      <td>0</td>\n",
       "      <td>0</td>\n",
       "    </tr>\n",
       "    <tr>\n",
       "      <th>2</th>\n",
       "      <td>218</td>\n",
       "      <td>100</td>\n",
       "      <td>0</td>\n",
       "      <td>0</td>\n",
       "      <td>0</td>\n",
       "      <td>0</td>\n",
       "      <td>0</td>\n",
       "      <td>0</td>\n",
       "      <td>0</td>\n",
       "      <td>0</td>\n",
       "    </tr>\n",
       "    <tr>\n",
       "      <th>3</th>\n",
       "      <td>406</td>\n",
       "      <td>192</td>\n",
       "      <td>0</td>\n",
       "      <td>0</td>\n",
       "      <td>0</td>\n",
       "      <td>0</td>\n",
       "      <td>0</td>\n",
       "      <td>0</td>\n",
       "      <td>0</td>\n",
       "      <td>0</td>\n",
       "    </tr>\n",
       "    <tr>\n",
       "      <th>4</th>\n",
       "      <td>70</td>\n",
       "      <td>962</td>\n",
       "      <td>0</td>\n",
       "      <td>0</td>\n",
       "      <td>0</td>\n",
       "      <td>0</td>\n",
       "      <td>0</td>\n",
       "      <td>0</td>\n",
       "      <td>0</td>\n",
       "      <td>0</td>\n",
       "    </tr>\n",
       "    <tr>\n",
       "      <th>...</th>\n",
       "      <td>...</td>\n",
       "      <td>...</td>\n",
       "      <td>...</td>\n",
       "      <td>...</td>\n",
       "      <td>...</td>\n",
       "      <td>...</td>\n",
       "      <td>...</td>\n",
       "      <td>...</td>\n",
       "      <td>...</td>\n",
       "      <td>...</td>\n",
       "    </tr>\n",
       "    <tr>\n",
       "      <th>299147</th>\n",
       "      <td>269</td>\n",
       "      <td>510</td>\n",
       "      <td>5</td>\n",
       "      <td>0</td>\n",
       "      <td>0</td>\n",
       "      <td>0</td>\n",
       "      <td>0</td>\n",
       "      <td>0</td>\n",
       "      <td>0</td>\n",
       "      <td>0</td>\n",
       "    </tr>\n",
       "    <tr>\n",
       "      <th>299148</th>\n",
       "      <td>8124</td>\n",
       "      <td>8885</td>\n",
       "      <td>0</td>\n",
       "      <td>0</td>\n",
       "      <td>0</td>\n",
       "      <td>0</td>\n",
       "      <td>0</td>\n",
       "      <td>0</td>\n",
       "      <td>0</td>\n",
       "      <td>0</td>\n",
       "    </tr>\n",
       "    <tr>\n",
       "      <th>299149</th>\n",
       "      <td>395</td>\n",
       "      <td>2056</td>\n",
       "      <td>11</td>\n",
       "      <td>0</td>\n",
       "      <td>0</td>\n",
       "      <td>0</td>\n",
       "      <td>0</td>\n",
       "      <td>0</td>\n",
       "      <td>0</td>\n",
       "      <td>0</td>\n",
       "    </tr>\n",
       "    <tr>\n",
       "      <th>299150</th>\n",
       "      <td>1980</td>\n",
       "      <td>78</td>\n",
       "      <td>0</td>\n",
       "      <td>0</td>\n",
       "      <td>0</td>\n",
       "      <td>0</td>\n",
       "      <td>0</td>\n",
       "      <td>0</td>\n",
       "      <td>0</td>\n",
       "      <td>0</td>\n",
       "    </tr>\n",
       "    <tr>\n",
       "      <th>299151</th>\n",
       "      <td>2537</td>\n",
       "      <td>10625</td>\n",
       "      <td>40</td>\n",
       "      <td>0</td>\n",
       "      <td>0</td>\n",
       "      <td>0</td>\n",
       "      <td>0</td>\n",
       "      <td>0</td>\n",
       "      <td>0</td>\n",
       "      <td>0</td>\n",
       "    </tr>\n",
       "  </tbody>\n",
       "</table>\n",
       "<p>299152 rows × 10 columns</p>\n",
       "</div>"
      ],
      "text/plain": [
       "         zero    one  two  three  four  five  six  seven  eight  nine\n",
       "0         150    581    0      0     0     0    0      0      0     0\n",
       "1       10982      6    0      0     0     0    0      0      0     0\n",
       "2         218    100    0      0     0     0    0      0      0     0\n",
       "3         406    192    0      0     0     0    0      0      0     0\n",
       "4          70    962    0      0     0     0    0      0      0     0\n",
       "...       ...    ...  ...    ...   ...   ...  ...    ...    ...   ...\n",
       "299147    269    510    5      0     0     0    0      0      0     0\n",
       "299148   8124   8885    0      0     0     0    0      0      0     0\n",
       "299149    395   2056   11      0     0     0    0      0      0     0\n",
       "299150   1980     78    0      0     0     0    0      0      0     0\n",
       "299151   2537  10625   40      0     0     0    0      0      0     0\n",
       "\n",
       "[299152 rows x 10 columns]"
      ]
     },
     "execution_count": 114,
     "metadata": {},
     "output_type": "execute_result"
    }
   ],
   "source": [
    "x_train_g= x_train.drop(['claps'], axis= 1)\n",
    "x_train_g"
   ]
  },
  {
   "cell_type": "code",
   "execution_count": 115,
   "metadata": {},
   "outputs": [
    {
     "data": {
      "text/plain": [
       "0            128\n",
       "1              1\n",
       "2              0\n",
       "3              1\n",
       "4             15\n",
       "           ...  \n",
       "299147     66882\n",
       "299148    244926\n",
       "299149     74535\n",
       "299150     59347\n",
       "299151    112556\n",
       "Name: claps, Length: 299152, dtype: int64"
      ]
     },
     "execution_count": 115,
     "metadata": {},
     "output_type": "execute_result"
    }
   ],
   "source": [
    "x_train_array = np.array(x_train_g)\n",
    "y_train_g =x_train['claps']\n",
    "y_train_g"
   ]
  },
  {
   "cell_type": "code",
   "execution_count": 96,
   "metadata": {},
   "outputs": [
    {
     "data": {
      "text/plain": [
       "array([[   0,    0,    0, ...,  575, 2917,    9],\n",
       "       [   0,    0,    0, ...,   16, 1796,  822],\n",
       "       [   0,    0,    0, ...,    0,    4,    5],\n",
       "       ...,\n",
       "       [   0,    0,    0, ...,  235,  422,   81],\n",
       "       [   0,    0,    0, ...,    0,   19,  118],\n",
       "       [   0,    0,    0, ...,    4, 7004, 9669]])"
      ]
     },
     "execution_count": 96,
     "metadata": {},
     "output_type": "execute_result"
    }
   ],
   "source": [
    "X_test = test['title'].astype(str)\n",
    "y_test = test['totalClapCount']\n",
    "y_test\n",
    "padded_test"
   ]
  },
  {
   "cell_type": "raw",
   "metadata": {},
   "source": [
    "smogn_title.shape"
   ]
  },
  {
   "cell_type": "code",
   "execution_count": 107,
   "metadata": {},
   "outputs": [
    {
     "data": {
      "text/plain": [
       "(16583, 10)"
      ]
     },
     "execution_count": 107,
     "metadata": {},
     "output_type": "execute_result"
    }
   ],
   "source": [
    "test_title_padded.shape"
   ]
  },
  {
   "cell_type": "code",
   "execution_count": 142,
   "metadata": {},
   "outputs": [
    {
     "data": {
      "text/html": [
       "<div>\n",
       "<style scoped>\n",
       "    .dataframe tbody tr th:only-of-type {\n",
       "        vertical-align: middle;\n",
       "    }\n",
       "\n",
       "    .dataframe tbody tr th {\n",
       "        vertical-align: top;\n",
       "    }\n",
       "\n",
       "    .dataframe thead th {\n",
       "        text-align: right;\n",
       "    }\n",
       "</style>\n",
       "<table border=\"1\" class=\"dataframe\">\n",
       "  <thead>\n",
       "    <tr style=\"text-align: right;\">\n",
       "      <th></th>\n",
       "      <th>zero</th>\n",
       "      <th>one</th>\n",
       "      <th>two</th>\n",
       "      <th>three</th>\n",
       "      <th>four</th>\n",
       "      <th>five</th>\n",
       "      <th>six</th>\n",
       "      <th>seven</th>\n",
       "      <th>eight</th>\n",
       "      <th>nine</th>\n",
       "    </tr>\n",
       "  </thead>\n",
       "  <tbody>\n",
       "    <tr>\n",
       "      <th>0</th>\n",
       "      <td>150</td>\n",
       "      <td>581</td>\n",
       "      <td>0</td>\n",
       "      <td>0</td>\n",
       "      <td>0</td>\n",
       "      <td>0</td>\n",
       "      <td>0</td>\n",
       "      <td>0</td>\n",
       "      <td>0</td>\n",
       "      <td>0</td>\n",
       "    </tr>\n",
       "    <tr>\n",
       "      <th>1</th>\n",
       "      <td>10982</td>\n",
       "      <td>6</td>\n",
       "      <td>0</td>\n",
       "      <td>0</td>\n",
       "      <td>0</td>\n",
       "      <td>0</td>\n",
       "      <td>0</td>\n",
       "      <td>0</td>\n",
       "      <td>0</td>\n",
       "      <td>0</td>\n",
       "    </tr>\n",
       "    <tr>\n",
       "      <th>2</th>\n",
       "      <td>218</td>\n",
       "      <td>100</td>\n",
       "      <td>0</td>\n",
       "      <td>0</td>\n",
       "      <td>0</td>\n",
       "      <td>0</td>\n",
       "      <td>0</td>\n",
       "      <td>0</td>\n",
       "      <td>0</td>\n",
       "      <td>0</td>\n",
       "    </tr>\n",
       "    <tr>\n",
       "      <th>3</th>\n",
       "      <td>406</td>\n",
       "      <td>192</td>\n",
       "      <td>0</td>\n",
       "      <td>0</td>\n",
       "      <td>0</td>\n",
       "      <td>0</td>\n",
       "      <td>0</td>\n",
       "      <td>0</td>\n",
       "      <td>0</td>\n",
       "      <td>0</td>\n",
       "    </tr>\n",
       "    <tr>\n",
       "      <th>4</th>\n",
       "      <td>70</td>\n",
       "      <td>962</td>\n",
       "      <td>0</td>\n",
       "      <td>0</td>\n",
       "      <td>0</td>\n",
       "      <td>0</td>\n",
       "      <td>0</td>\n",
       "      <td>0</td>\n",
       "      <td>0</td>\n",
       "      <td>0</td>\n",
       "    </tr>\n",
       "    <tr>\n",
       "      <th>...</th>\n",
       "      <td>...</td>\n",
       "      <td>...</td>\n",
       "      <td>...</td>\n",
       "      <td>...</td>\n",
       "      <td>...</td>\n",
       "      <td>...</td>\n",
       "      <td>...</td>\n",
       "      <td>...</td>\n",
       "      <td>...</td>\n",
       "      <td>...</td>\n",
       "    </tr>\n",
       "    <tr>\n",
       "      <th>299147</th>\n",
       "      <td>269</td>\n",
       "      <td>510</td>\n",
       "      <td>5</td>\n",
       "      <td>0</td>\n",
       "      <td>0</td>\n",
       "      <td>0</td>\n",
       "      <td>0</td>\n",
       "      <td>0</td>\n",
       "      <td>0</td>\n",
       "      <td>0</td>\n",
       "    </tr>\n",
       "    <tr>\n",
       "      <th>299148</th>\n",
       "      <td>8124</td>\n",
       "      <td>8885</td>\n",
       "      <td>0</td>\n",
       "      <td>0</td>\n",
       "      <td>0</td>\n",
       "      <td>0</td>\n",
       "      <td>0</td>\n",
       "      <td>0</td>\n",
       "      <td>0</td>\n",
       "      <td>0</td>\n",
       "    </tr>\n",
       "    <tr>\n",
       "      <th>299149</th>\n",
       "      <td>395</td>\n",
       "      <td>2056</td>\n",
       "      <td>11</td>\n",
       "      <td>0</td>\n",
       "      <td>0</td>\n",
       "      <td>0</td>\n",
       "      <td>0</td>\n",
       "      <td>0</td>\n",
       "      <td>0</td>\n",
       "      <td>0</td>\n",
       "    </tr>\n",
       "    <tr>\n",
       "      <th>299150</th>\n",
       "      <td>1980</td>\n",
       "      <td>78</td>\n",
       "      <td>0</td>\n",
       "      <td>0</td>\n",
       "      <td>0</td>\n",
       "      <td>0</td>\n",
       "      <td>0</td>\n",
       "      <td>0</td>\n",
       "      <td>0</td>\n",
       "      <td>0</td>\n",
       "    </tr>\n",
       "    <tr>\n",
       "      <th>299151</th>\n",
       "      <td>2537</td>\n",
       "      <td>10625</td>\n",
       "      <td>40</td>\n",
       "      <td>0</td>\n",
       "      <td>0</td>\n",
       "      <td>0</td>\n",
       "      <td>0</td>\n",
       "      <td>0</td>\n",
       "      <td>0</td>\n",
       "      <td>0</td>\n",
       "    </tr>\n",
       "  </tbody>\n",
       "</table>\n",
       "<p>299152 rows × 10 columns</p>\n",
       "</div>"
      ],
      "text/plain": [
       "         zero    one  two  three  four  five  six  seven  eight  nine\n",
       "0         150    581    0      0     0     0    0      0      0     0\n",
       "1       10982      6    0      0     0     0    0      0      0     0\n",
       "2         218    100    0      0     0     0    0      0      0     0\n",
       "3         406    192    0      0     0     0    0      0      0     0\n",
       "4          70    962    0      0     0     0    0      0      0     0\n",
       "...       ...    ...  ...    ...   ...   ...  ...    ...    ...   ...\n",
       "299147    269    510    5      0     0     0    0      0      0     0\n",
       "299148   8124   8885    0      0     0     0    0      0      0     0\n",
       "299149    395   2056   11      0     0     0    0      0      0     0\n",
       "299150   1980     78    0      0     0     0    0      0      0     0\n",
       "299151   2537  10625   40      0     0     0    0      0      0     0\n",
       "\n",
       "[299152 rows x 10 columns]"
      ]
     },
     "execution_count": 142,
     "metadata": {},
     "output_type": "execute_result"
    }
   ],
   "source": [
    "x_train_g"
   ]
  },
  {
   "cell_type": "code",
   "execution_count": 106,
   "metadata": {},
   "outputs": [
    {
     "data": {
      "text/plain": [
       "False"
      ]
     },
     "execution_count": 106,
     "metadata": {},
     "output_type": "execute_result"
    }
   ],
   "source": [
    "array_sum = np.sum(test_title_padded)\n",
    "array_has_nan = np.isnan(array_sum)\n",
    "array_has_nan"
   ]
  },
  {
   "cell_type": "code",
   "execution_count": 311,
   "metadata": {},
   "outputs": [
    {
     "name": "stdout",
     "output_type": "stream",
     "text": [
      "Model: \"sequential_7\"\n",
      "_________________________________________________________________\n",
      "Layer (type)                 Output Shape              Param #   \n",
      "=================================================================\n",
      "embedding_12 (Embedding)     (None, 10, 100)           9042700   \n",
      "_________________________________________________________________\n",
      "lstm_11 (LSTM)               (None, 100)               80400     \n",
      "_________________________________________________________________\n",
      "dense_15 (Dense)             (None, 1)                 101       \n",
      "=================================================================\n",
      "Total params: 9,123,201\n",
      "Trainable params: 9,123,201\n",
      "Non-trainable params: 0\n",
      "_________________________________________________________________\n"
     ]
    }
   ],
   "source": [
    "model = Sequential()\n",
    "model.add(Embedding(90427, 100, input_length=10, weights=[embed_weights]))\n",
    "model.add(LSTM(100, dropout=0.5, recurrent_dropout=0.2))\n",
    "model.add(Dense(1, activation='relu'))\n",
    "model.compile(loss='mse', optimizer='adam', metrics=['mse'])\n",
    "model.summary()"
   ]
  },
  {
   "cell_type": "code",
   "execution_count": 312,
   "metadata": {},
   "outputs": [
    {
     "name": "stdout",
     "output_type": "stream",
     "text": [
      "Epoch 1/10\n",
      "293/293 [==============================] - 152s 518ms/step - loss: 1718046848.0000 - mse: 1718046848.0000 - val_loss: 2059901.3750 - val_mse: 2059901.3750\n",
      "Epoch 2/10\n",
      "293/293 [==============================] - 167s 569ms/step - loss: 1717097344.0000 - mse: 1717097344.0000 - val_loss: 2052675.0000 - val_mse: 2052675.0000\n",
      "Epoch 3/10\n",
      "293/293 [==============================] - 156s 532ms/step - loss: 1716221568.0000 - mse: 1716221568.0000 - val_loss: 2047376.8750 - val_mse: 2047376.8750\n",
      "Epoch 4/10\n",
      "293/293 [==============================] - 161s 549ms/step - loss: 1715361408.0000 - mse: 1715361408.0000 - val_loss: 2043902.2500 - val_mse: 2043902.2500\n",
      "Epoch 5/10\n",
      "293/293 [==============================] - 139s 474ms/step - loss: 1714506368.0000 - mse: 1714506368.0000 - val_loss: 2042188.1250 - val_mse: 2042188.1250\n",
      "Epoch 6/10\n",
      "293/293 [==============================] - 150s 510ms/step - loss: 1713656576.0000 - mse: 1713656576.0000 - val_loss: 2042221.0000 - val_mse: 2042221.0000\n",
      "Epoch 7/10\n",
      "293/293 [==============================] - 152s 519ms/step - loss: 1712807808.0000 - mse: 1712807808.0000 - val_loss: 2043990.0000 - val_mse: 2043990.0000\n",
      "Epoch 8/10\n",
      "293/293 [==============================] - 152s 518ms/step - loss: 1711963264.0000 - mse: 1711963264.0000 - val_loss: 2047490.5000 - val_mse: 2047490.5000\n",
      "Epoch 9/10\n",
      "293/293 [==============================] - 173s 590ms/step - loss: 1711122560.0000 - mse: 1711122560.0000 - val_loss: 2052715.1250 - val_mse: 2052715.1250\n",
      "Epoch 10/10\n",
      "293/293 [==============================] - 146s 498ms/step - loss: 1710283904.0000 - mse: 1710283904.0000 - val_loss: 2059644.0000 - val_mse: 2059644.0000\n"
     ]
    }
   ],
   "source": [
    "history=model.fit(x_train_g, y_train_g, validation_data=(test_title_padded ,y_test) , epochs = 10, batch_size=1024)"
   ]
  },
  {
   "cell_type": "code",
   "execution_count": 314,
   "metadata": {},
   "outputs": [
    {
     "data": {
      "image/png": "[encoded data removed]",
      "text/plain": [
       "<Figure size 432x288 with 1 Axes>"
      ]
     },
     "metadata": {
      "needs_background": "light"
     },
     "output_type": "display_data"
    }
   ],
   "source": [
    "plt.plot(history.history['val_mse'])\n",
    "plt.title('validation mse')\n",
    "plt.ylabel('mse')\n",
    "plt.xlabel('epoch')\n",
    "plt.show()"
   ]
  },
  {
   "cell_type": "code",
   "execution_count": 315,
   "metadata": {},
   "outputs": [
    {
     "name": "stdout",
     "output_type": "stream",
     "text": [
      "Train loss: 1709863424.0\n",
      "Train MSE: 1709863424.0\n",
      "Test loss (mse): 2059644.375\n",
      "Test MSE: 2059644.375\n"
     ]
    }
   ],
   "source": [
    "scores={}\n",
    "test_score = model.evaluate(test_title_padded, y_test, verbose=0)\n",
    "train_score = model.evaluate(x_train_g, y_train_g, verbose=0)\n",
    "print('Train loss:', train_score[0])\n",
    "print('Train MSE:', train_score[1])\n",
    "print('Test loss (mse):', test_score[0])\n",
    "print('Test MSE:', test_score[1])\n"
   ]
  },
  {
   "cell_type": "markdown",
   "metadata": {},
   "source": [
    "As you can see I have reached the best validation loss value after 5. epoch. That means increasing the number of epochs I compute will not help me achieve better results. This mse value is also the best I achieve, which is in line with my initial thinking that title is by itself a good enough predictor for clap counts. In terms of simplicity, reading only title column is also the fastest way to construct and run LSTM model."
   ]
  },
  {
   "cell_type": "markdown",
   "metadata": {},
   "source": [
    "## Multiple Input Model"
   ]
  },
  {
   "cell_type": "markdown",
   "metadata": {},
   "source": [
    "Next instead of only using title as a single input, I introduced additionaly author information as a second input. I will construct a multiple input model using Keras functional API, since sequential API as I used above doesn't allow me to have multiple inputs or outputs.[11] Above I have applied SMOTE when I have only title in my data frame. Therefore, I have to apply SMOTE again after including author in my data frame. I can use the same embedding weight matrix because I am going to use the same dictionary. I have used bidirectional LSTM, since it connects two opposite directional hidden layers. This makes our model analyze the text forward and backwards, which improves understanding of the connections between words therefore increase prediction accuracy."
   ]
  },
  {
   "cell_type": "code",
   "execution_count": 280,
   "metadata": {},
   "outputs": [],
   "source": [
    "train_padded_mm = pd.DataFrame(data=train_title_padded, columns=['zero','one','two','three','four','five','six','seven','eight','nine'])\n",
    "train_padded_mm2 = pd.DataFrame(data=train_author_padded, columns=['author'])"
   ]
  },
  {
   "cell_type": "code",
   "execution_count": 281,
   "metadata": {},
   "outputs": [
    {
     "name": "stderr",
     "output_type": "stream",
     "text": [
      "C:\\Users\\osman\\anaconda3\\lib\\site-packages\\ipykernel_launcher.py:1: SettingWithCopyWarning: \n",
      "A value is trying to be set on a copy of a slice from a DataFrame.\n",
      "Try using .loc[row_indexer,col_indexer] = value instead\n",
      "\n",
      "See the caveats in the documentation: https://pandas.pydata.org/pandas-docs/stable/user_guide/indexing.html#returning-a-view-versus-a-copy\n",
      "  \"\"\"Entry point for launching an IPython kernel.\n"
     ]
    }
   ],
   "source": [
    "train['classes'] = train['totalClapCount'].apply(lambda x: 0 if 0 <= x <= 20 else 1 if 20 < x <= 50 else 2 if 50 < x <= 100 else 3 if 100 < x <= 200 else 4 if 200 < x <= 1000 else 5 if 1000 < x <= 2000 else 6 if 2000 < x <= 5000 else 7 if 5000 < x <= 10000 else 8 if 10000 < x <= 50000 else 9)"
   ]
  },
  {
   "cell_type": "code",
   "execution_count": 282,
   "metadata": {},
   "outputs": [],
   "source": [
    "train_smote_mm = train['totalClapCount']"
   ]
  },
  {
   "cell_type": "code",
   "execution_count": 289,
   "metadata": {},
   "outputs": [],
   "source": [
    "train_class_mm = train['classes']"
   ]
  },
  {
   "cell_type": "code",
   "execution_count": 290,
   "metadata": {},
   "outputs": [],
   "source": [
    "train_smote_mm.reset_index(drop=True, inplace=True)\n",
    "train_padded_mm.reset_index(drop=True, inplace=True)\n",
    "train_padded_mm2.reset_index(drop=True, inplace=True)\n",
    "mm_data = pd.concat([train_smote_mm, train_padded_mm, train_padded_mm2], axis=1)"
   ]
  },
  {
   "cell_type": "code",
   "execution_count": 291,
   "metadata": {},
   "outputs": [
    {
     "data": {
      "text/plain": [
       "([<matplotlib.axis.XTick at 0x242c2be38c8>,\n",
       "  <matplotlib.axis.XTick at 0x242c2be3b48>,\n",
       "  <matplotlib.axis.XTick at 0x242a30758c8>,\n",
       "  <matplotlib.axis.XTick at 0x242ab9dc248>,\n",
       "  <matplotlib.axis.XTick at 0x242ab9dc948>,\n",
       "  <matplotlib.axis.XTick at 0x242ab9d6088>,\n",
       "  <matplotlib.axis.XTick at 0x242ab9d68c8>,\n",
       "  <matplotlib.axis.XTick at 0x242ab9d22c8>,\n",
       "  <matplotlib.axis.XTick at 0x242ab9d2cc8>,\n",
       "  <matplotlib.axis.XTick at 0x242ab9ce708>],\n",
       " <a list of 10 Text xticklabel objects>)"
      ]
     },
     "execution_count": 291,
     "metadata": {},
     "output_type": "execute_result"
    },
    {
     "data": {
      "image/png": "[encoded data removed]",
      "text/plain": [
       "<Figure size 1080x720 with 1 Axes>"
      ]
     },
     "metadata": {
      "needs_background": "light"
     },
     "output_type": "display_data"
    }
   ],
   "source": [
    "classes = train_class_mm\n",
    "fig, ax1 = plt.subplots(1, 1, figsize = (15, 10))\n",
    "ax1.hist(classes, 20, label = 'Train Scores', alpha = 0.5)\n",
    "ax1.legend()\n",
    "plt.xticks([0,1,2,3,4,5,6,7,8,9], [\"0\",\"1\",\"2\",\"3\",\"4\",\"5\",\"6\",\"7\",\"8\",\"9\"])"
   ]
  },
  {
   "cell_type": "code",
   "execution_count": 348,
   "metadata": {},
   "outputs": [],
   "source": [
    "sm = SMOTE(random_state=54)\n",
    "x_train_mm, y_train_mm = sm.fit_sample(mm_data, train_class_mm)\n",
    "mm_in= x_train_mm.drop(['totalClapCount', 'author'], axis= 1)\n",
    "mm_out =x_train_mm['totalClapCount']\n",
    "mm_in2 = x_train_mm['author']"
   ]
  },
  {
   "cell_type": "code",
   "execution_count": 325,
   "metadata": {},
   "outputs": [
    {
     "data": {
      "text/plain": [
       "array([[ 0.        ,  0.        ,  0.        , ...,  0.        ,\n",
       "         0.        ,  0.        ],\n",
       "       [-0.32723904, -0.57694399, -3.92547035, ..., -0.4438138 ,\n",
       "         0.90359616,  1.55325687],\n",
       "       [ 2.39518332, -0.50735325,  1.10653234, ..., -3.76678705,\n",
       "        -1.68567061,  0.58407223],\n",
       "       ...,\n",
       "       [ 0.        ,  0.        ,  0.        , ...,  0.        ,\n",
       "         0.        ,  0.        ],\n",
       "       [ 0.        ,  0.        ,  0.        , ...,  0.        ,\n",
       "         0.        ,  0.        ],\n",
       "       [ 0.        ,  0.        ,  0.        , ...,  0.        ,\n",
       "         0.        ,  0.        ]])"
      ]
     },
     "execution_count": 325,
     "metadata": {},
     "output_type": "execute_result"
    }
   ],
   "source": [
    "embed_weights"
   ]
  },
  {
   "cell_type": "code",
   "execution_count": 345,
   "metadata": {},
   "outputs": [
    {
     "name": "stdout",
     "output_type": "stream",
     "text": [
      "Model: \"functional_9\"\n",
      "__________________________________________________________________________________________________\n",
      "Layer (type)                    Output Shape         Param #     Connected to                     \n",
      "==================================================================================================\n",
      "title (InputLayer)              [(None, 10)]         0                                            \n",
      "__________________________________________________________________________________________________\n",
      "embedding_35 (Embedding)        (None, 10, 100)      9042700     title[0][0]                      \n",
      "__________________________________________________________________________________________________\n",
      "author (InputLayer)             [(None, 1)]          0                                            \n",
      "__________________________________________________________________________________________________\n",
      "bidirectional_22 (Bidirectional (None, 200)          160800      embedding_35[0][0]               \n",
      "__________________________________________________________________________________________________\n",
      "concatenate_31 (Concatenate)    (None, 211)          0           title[0][0]                      \n",
      "                                                                 author[0][0]                     \n",
      "                                                                 bidirectional_22[0][0]           \n",
      "__________________________________________________________________________________________________\n",
      "dense_24 (Dense)                (None, 50)           10600       concatenate_31[0][0]             \n",
      "__________________________________________________________________________________________________\n",
      "dense_25 (Dense)                (None, 1)            51          dense_24[0][0]                   \n",
      "==================================================================================================\n",
      "Total params: 9,214,151\n",
      "Trainable params: 9,214,151\n",
      "Non-trainable params: 0\n",
      "__________________________________________________________________________________________________\n"
     ]
    }
   ],
   "source": [
    "max_features = 2000\n",
    "maxlen = 10\n",
    "emb = 100\n",
    "no_words = 90427\n",
    "\n",
    "mm_title = Input(shape=(maxlen,), name=\"title\")\n",
    "mm_auth = Input(shape=(1,), name=\"author\")\n",
    "mm_conc = concatenate([mm_title, mm_auth])\n",
    "embedding_layer = Embedding(output_dim=emb, input_dim=no_words, input_length=maxlen, weights=[embed_weights])(mm_title)\n",
    "lstm2 = Bidirectional(LSTM(emb, dropout=0.05, recurrent_dropout=0.1 ))(embedding_layer)\n",
    "mm_conc = concatenate([mm_title, mm_auth, lstm2])\n",
    "res = Dense(50,activation='relu')(mm_conc)\n",
    "res = Dense(1,activation='relu')(res)\n",
    "\n",
    "multimodel = Model(inputs=[mm_title, mm_auth], outputs=[res])\n",
    "\n",
    "multimodel.summary()"
   ]
  },
  {
   "cell_type": "code",
   "execution_count": 349,
   "metadata": {},
   "outputs": [
    {
     "data": {
      "text/html": [
       "<div>\n",
       "<style scoped>\n",
       "    .dataframe tbody tr th:only-of-type {\n",
       "        vertical-align: middle;\n",
       "    }\n",
       "\n",
       "    .dataframe tbody tr th {\n",
       "        vertical-align: top;\n",
       "    }\n",
       "\n",
       "    .dataframe thead th {\n",
       "        text-align: right;\n",
       "    }\n",
       "</style>\n",
       "<table border=\"1\" class=\"dataframe\">\n",
       "  <thead>\n",
       "    <tr style=\"text-align: right;\">\n",
       "      <th></th>\n",
       "      <th>zero</th>\n",
       "      <th>one</th>\n",
       "      <th>two</th>\n",
       "      <th>three</th>\n",
       "      <th>four</th>\n",
       "      <th>five</th>\n",
       "      <th>six</th>\n",
       "      <th>seven</th>\n",
       "      <th>eight</th>\n",
       "      <th>nine</th>\n",
       "    </tr>\n",
       "  </thead>\n",
       "  <tbody>\n",
       "    <tr>\n",
       "      <th>0</th>\n",
       "      <td>1</td>\n",
       "      <td>3</td>\n",
       "      <td>1319</td>\n",
       "      <td>3203</td>\n",
       "      <td>0</td>\n",
       "      <td>0</td>\n",
       "      <td>0</td>\n",
       "      <td>0</td>\n",
       "      <td>0</td>\n",
       "      <td>0</td>\n",
       "    </tr>\n",
       "    <tr>\n",
       "      <th>1</th>\n",
       "      <td>3468</td>\n",
       "      <td>3467</td>\n",
       "      <td>257</td>\n",
       "      <td>2635</td>\n",
       "      <td>1288</td>\n",
       "      <td>26</td>\n",
       "      <td>199</td>\n",
       "      <td>0</td>\n",
       "      <td>0</td>\n",
       "      <td>0</td>\n",
       "    </tr>\n",
       "    <tr>\n",
       "      <th>2</th>\n",
       "      <td>25</td>\n",
       "      <td>1463</td>\n",
       "      <td>1614</td>\n",
       "      <td>0</td>\n",
       "      <td>0</td>\n",
       "      <td>0</td>\n",
       "      <td>0</td>\n",
       "      <td>0</td>\n",
       "      <td>0</td>\n",
       "      <td>0</td>\n",
       "    </tr>\n",
       "    <tr>\n",
       "      <th>3</th>\n",
       "      <td>148</td>\n",
       "      <td>1959</td>\n",
       "      <td>9879</td>\n",
       "      <td>4845</td>\n",
       "      <td>0</td>\n",
       "      <td>0</td>\n",
       "      <td>0</td>\n",
       "      <td>0</td>\n",
       "      <td>0</td>\n",
       "      <td>0</td>\n",
       "    </tr>\n",
       "    <tr>\n",
       "      <th>4</th>\n",
       "      <td>298</td>\n",
       "      <td>2235</td>\n",
       "      <td>56</td>\n",
       "      <td>1253</td>\n",
       "      <td>9880</td>\n",
       "      <td>131</td>\n",
       "      <td>2050</td>\n",
       "      <td>0</td>\n",
       "      <td>0</td>\n",
       "      <td>0</td>\n",
       "    </tr>\n",
       "    <tr>\n",
       "      <th>...</th>\n",
       "      <td>...</td>\n",
       "      <td>...</td>\n",
       "      <td>...</td>\n",
       "      <td>...</td>\n",
       "      <td>...</td>\n",
       "      <td>...</td>\n",
       "      <td>...</td>\n",
       "      <td>...</td>\n",
       "      <td>...</td>\n",
       "      <td>...</td>\n",
       "    </tr>\n",
       "    <tr>\n",
       "      <th>301925</th>\n",
       "      <td>3938</td>\n",
       "      <td>24</td>\n",
       "      <td>0</td>\n",
       "      <td>0</td>\n",
       "      <td>0</td>\n",
       "      <td>0</td>\n",
       "      <td>0</td>\n",
       "      <td>0</td>\n",
       "      <td>0</td>\n",
       "      <td>0</td>\n",
       "    </tr>\n",
       "    <tr>\n",
       "      <th>301926</th>\n",
       "      <td>7460</td>\n",
       "      <td>3071</td>\n",
       "      <td>431</td>\n",
       "      <td>1097</td>\n",
       "      <td>3278</td>\n",
       "      <td>79</td>\n",
       "      <td>6802</td>\n",
       "      <td>6802</td>\n",
       "      <td>238</td>\n",
       "      <td>0</td>\n",
       "    </tr>\n",
       "    <tr>\n",
       "      <th>301927</th>\n",
       "      <td>3774</td>\n",
       "      <td>99</td>\n",
       "      <td>25</td>\n",
       "      <td>13</td>\n",
       "      <td>116</td>\n",
       "      <td>9</td>\n",
       "      <td>190</td>\n",
       "      <td>0</td>\n",
       "      <td>0</td>\n",
       "      <td>0</td>\n",
       "    </tr>\n",
       "    <tr>\n",
       "      <th>301928</th>\n",
       "      <td>934</td>\n",
       "      <td>2</td>\n",
       "      <td>2</td>\n",
       "      <td>0</td>\n",
       "      <td>0</td>\n",
       "      <td>0</td>\n",
       "      <td>0</td>\n",
       "      <td>0</td>\n",
       "      <td>0</td>\n",
       "      <td>0</td>\n",
       "    </tr>\n",
       "    <tr>\n",
       "      <th>301929</th>\n",
       "      <td>365</td>\n",
       "      <td>511</td>\n",
       "      <td>174</td>\n",
       "      <td>93</td>\n",
       "      <td>799</td>\n",
       "      <td>63</td>\n",
       "      <td>1291</td>\n",
       "      <td>0</td>\n",
       "      <td>0</td>\n",
       "      <td>0</td>\n",
       "    </tr>\n",
       "  </tbody>\n",
       "</table>\n",
       "<p>301930 rows × 10 columns</p>\n",
       "</div>"
      ],
      "text/plain": [
       "        zero   one   two  three  four  five   six  seven  eight  nine\n",
       "0          1     3  1319   3203     0     0     0      0      0     0\n",
       "1       3468  3467   257   2635  1288    26   199      0      0     0\n",
       "2         25  1463  1614      0     0     0     0      0      0     0\n",
       "3        148  1959  9879   4845     0     0     0      0      0     0\n",
       "4        298  2235    56   1253  9880   131  2050      0      0     0\n",
       "...      ...   ...   ...    ...   ...   ...   ...    ...    ...   ...\n",
       "301925  3938    24     0      0     0     0     0      0      0     0\n",
       "301926  7460  3071   431   1097  3278    79  6802   6802    238     0\n",
       "301927  3774    99    25     13   116     9   190      0      0     0\n",
       "301928   934     2     2      0     0     0     0      0      0     0\n",
       "301929   365   511   174     93   799    63  1291      0      0     0\n",
       "\n",
       "[301930 rows x 10 columns]"
      ]
     },
     "execution_count": 349,
     "metadata": {},
     "output_type": "execute_result"
    }
   ],
   "source": [
    "mm_in"
   ]
  },
  {
   "cell_type": "code",
   "execution_count": 351,
   "metadata": {},
   "outputs": [
    {
     "name": "stdout",
     "output_type": "stream",
     "text": [
      "Epoch 1/10\n",
      "1180/1180 [==============================] - 741s 628ms/step - loss: 955255872.0000 - mean_squared_error: 955255872.0000 - val_loss: 174804112.0000 - val_mean_squared_error: 174804112.0000\n",
      "Epoch 2/10\n",
      "1180/1180 [==============================] - 597s 506ms/step - loss: 753044032.0000 - mean_squared_error: 753044032.0000 - val_loss: 171442816.0000 - val_mean_squared_error: 171442816.0000\n",
      "Epoch 3/10\n",
      "1180/1180 [==============================] - 483s 410ms/step - loss: 655715008.0000 - mean_squared_error: 655715008.0000 - val_loss: 118457016.0000 - val_mean_squared_error: 118457016.0000\n",
      "Epoch 4/10\n",
      "1180/1180 [==============================] - 493s 418ms/step - loss: 563091520.0000 - mean_squared_error: 563091520.0000 - val_loss: 96644928.0000 - val_mean_squared_error: 96644928.0000\n",
      "Epoch 5/10\n",
      "1180/1180 [==============================] - 530s 449ms/step - loss: 471627200.0000 - mean_squared_error: 471627200.0000 - val_loss: 82592152.0000 - val_mean_squared_error: 82592152.0000\n",
      "Epoch 6/10\n",
      "1180/1180 [==============================] - 506s 429ms/step - loss: 384576640.0000 - mean_squared_error: 384576640.0000 - val_loss: 69421736.0000 - val_mean_squared_error: 69421736.0000\n",
      "Epoch 7/10\n",
      "1180/1180 [==============================] - 470s 398ms/step - loss: 311808768.0000 - mean_squared_error: 311808768.0000 - val_loss: 66840792.0000 - val_mean_squared_error: 66840792.0000\n",
      "Epoch 8/10\n",
      "1180/1180 [==============================] - 443s 376ms/step - loss: 252636544.0000 - mean_squared_error: 252636544.0000 - val_loss: 55390388.0000 - val_mean_squared_error: 55390388.0000\n",
      "Epoch 9/10\n",
      "1180/1180 [==============================] - 451s 382ms/step - loss: 204922560.0000 - mean_squared_error: 204922560.0000 - val_loss: 42941380.0000 - val_mean_squared_error: 42941380.0000\n",
      "Epoch 10/10\n",
      "1180/1180 [==============================] - 464s 394ms/step - loss: 164830464.0000 - mean_squared_error: 164830464.0000 - val_loss: 44467472.0000 - val_mean_squared_error: 44467472.0000\n"
     ]
    }
   ],
   "source": [
    "multimodel.compile(loss='mse',\n",
    "                  optimizer=keras.optimizers.Adam(lr=0.001),\n",
    "                  metrics=['mean_squared_error'])\n",
    "\n",
    "early = EarlyStopping(monitor=\"val_loss\", mode=\"min\", patience=5)\n",
    "\n",
    "multihistory = multimodel.fit([mm_in, mm_in2], mm_out, validation_data= ([test_title_padded, test_author_padded], y_test), batch_size=256, epochs=10, callbacks=[early])"
   ]
  },
  {
   "cell_type": "code",
   "execution_count": 364,
   "metadata": {},
   "outputs": [
    {
     "data": {
      "image/png": "[encoded data removed]",
      "text/plain": [
       "<Figure size 432x288 with 1 Axes>"
      ]
     },
     "metadata": {
      "needs_background": "light"
     },
     "output_type": "display_data"
    }
   ],
   "source": [
    "plt.plot(multihistory.history['val_mean_squared_error'])\n",
    "plt.title('validation mse')\n",
    "plt.ylabel('mse')\n",
    "plt.xlabel('epoch')\n",
    "plt.show()"
   ]
  },
  {
   "cell_type": "markdown",
   "metadata": {},
   "source": [
    "As you can see after 10. epoch validation mean squared error goes up, so I won't increase the number of epochs. Also the loss values I get are quite higher than the ones I get using only title column, execution time is way higher as well. Hence, I choose not to use the multiple input model."
   ]
  },
  {
   "cell_type": "markdown",
   "metadata": {},
   "source": [
    "## Model based only on author as a benchmark"
   ]
  },
  {
   "cell_type": "markdown",
   "metadata": {},
   "source": [
    "As a benchmark I predict clap counts only based on the author. I applied SMOTE again this time only using author column. Afterwards I used the same model from the first LSTM model I constructed using only title column."
   ]
  },
  {
   "cell_type": "code",
   "execution_count": 165,
   "metadata": {},
   "outputs": [],
   "source": [
    "train_padded2 = pd.DataFrame(data=train_author_padded, columns=['authors'])"
   ]
  },
  {
   "cell_type": "code",
   "execution_count": 161,
   "metadata": {},
   "outputs": [],
   "source": [
    "data_smote = train[['totalClapCount']]"
   ]
  },
  {
   "cell_type": "code",
   "execution_count": 162,
   "metadata": {},
   "outputs": [
    {
     "name": "stderr",
     "output_type": "stream",
     "text": [
      "C:\\Users\\osman\\anaconda3\\lib\\site-packages\\ipykernel_launcher.py:1: SettingWithCopyWarning: \n",
      "A value is trying to be set on a copy of a slice from a DataFrame.\n",
      "Try using .loc[row_indexer,col_indexer] = value instead\n",
      "\n",
      "See the caveats in the documentation: https://pandas.pydata.org/pandas-docs/stable/user_guide/indexing.html#returning-a-view-versus-a-copy\n",
      "  \"\"\"Entry point for launching an IPython kernel.\n"
     ]
    }
   ],
   "source": [
    "train['classes'] = train['totalClapCount'].apply(lambda x: 0 if 0 <= x <= 10 else 1 if 10 < x <= 50 else 2 if 50 < x <= 100 else 3 if 100 < x <= 200 else 4 if 200 < x <= 1000 else 5 if 1000 < x <= 2000 else 6 if 2000 < x <= 5000 else 7 if 5000 < x <= 10000 else 8 if 10000 < x <= 50000 else 9)"
   ]
  },
  {
   "cell_type": "code",
   "execution_count": 174,
   "metadata": {},
   "outputs": [],
   "source": [
    "data_smote.reset_index(drop=True, inplace=True)\n",
    "train_padded2.reset_index(drop=True, inplace=True)"
   ]
  },
  {
   "cell_type": "code",
   "execution_count": 175,
   "metadata": {},
   "outputs": [],
   "source": [
    "df = pd.concat([data_smote, train_padded2], axis=1)"
   ]
  },
  {
   "cell_type": "code",
   "execution_count": 176,
   "metadata": {},
   "outputs": [],
   "source": [
    "y_classes = train['classes']"
   ]
  },
  {
   "cell_type": "code",
   "execution_count": null,
   "metadata": {},
   "outputs": [],
   "source": []
  },
  {
   "cell_type": "code",
   "execution_count": 177,
   "metadata": {},
   "outputs": [],
   "source": [
    "sm = SMOTE(random_state=4)\n",
    "x_train_aut, y_train_aut = sm.fit_sample(df, y_classes)"
   ]
  },
  {
   "cell_type": "code",
   "execution_count": 223,
   "metadata": {},
   "outputs": [
    {
     "data": {
      "text/html": [
       "<div>\n",
       "<style scoped>\n",
       "    .dataframe tbody tr th:only-of-type {\n",
       "        vertical-align: middle;\n",
       "    }\n",
       "\n",
       "    .dataframe tbody tr th {\n",
       "        vertical-align: top;\n",
       "    }\n",
       "\n",
       "    .dataframe thead th {\n",
       "        text-align: right;\n",
       "    }\n",
       "</style>\n",
       "<table border=\"1\" class=\"dataframe\">\n",
       "  <thead>\n",
       "    <tr style=\"text-align: right;\">\n",
       "      <th></th>\n",
       "      <th>totalClapCount</th>\n",
       "      <th>authors</th>\n",
       "    </tr>\n",
       "  </thead>\n",
       "  <tbody>\n",
       "    <tr>\n",
       "      <th>0</th>\n",
       "      <td>128</td>\n",
       "      <td>130</td>\n",
       "    </tr>\n",
       "    <tr>\n",
       "      <th>1</th>\n",
       "      <td>1</td>\n",
       "      <td>7624</td>\n",
       "    </tr>\n",
       "    <tr>\n",
       "      <th>2</th>\n",
       "      <td>0</td>\n",
       "      <td>534</td>\n",
       "    </tr>\n",
       "    <tr>\n",
       "      <th>3</th>\n",
       "      <td>1</td>\n",
       "      <td>65</td>\n",
       "    </tr>\n",
       "    <tr>\n",
       "      <th>4</th>\n",
       "      <td>15</td>\n",
       "      <td>209</td>\n",
       "    </tr>\n",
       "    <tr>\n",
       "      <th>...</th>\n",
       "      <td>...</td>\n",
       "      <td>...</td>\n",
       "    </tr>\n",
       "    <tr>\n",
       "      <th>271615</th>\n",
       "      <td>92448</td>\n",
       "      <td>15808</td>\n",
       "    </tr>\n",
       "    <tr>\n",
       "      <th>271616</th>\n",
       "      <td>231045</td>\n",
       "      <td>8457</td>\n",
       "    </tr>\n",
       "    <tr>\n",
       "      <th>271617</th>\n",
       "      <td>119062</td>\n",
       "      <td>7088</td>\n",
       "    </tr>\n",
       "    <tr>\n",
       "      <th>271618</th>\n",
       "      <td>261723</td>\n",
       "      <td>4640</td>\n",
       "    </tr>\n",
       "    <tr>\n",
       "      <th>271619</th>\n",
       "      <td>115357</td>\n",
       "      <td>7475</td>\n",
       "    </tr>\n",
       "  </tbody>\n",
       "</table>\n",
       "<p>271620 rows × 2 columns</p>\n",
       "</div>"
      ],
      "text/plain": [
       "        totalClapCount  authors\n",
       "0                  128      130\n",
       "1                    1     7624\n",
       "2                    0      534\n",
       "3                    1       65\n",
       "4                   15      209\n",
       "...                ...      ...\n",
       "271615           92448    15808\n",
       "271616          231045     8457\n",
       "271617          119062     7088\n",
       "271618          261723     4640\n",
       "271619          115357     7475\n",
       "\n",
       "[271620 rows x 2 columns]"
      ]
     },
     "execution_count": 223,
     "metadata": {},
     "output_type": "execute_result"
    }
   ],
   "source": [
    "x_train_aut"
   ]
  },
  {
   "cell_type": "code",
   "execution_count": 218,
   "metadata": {},
   "outputs": [
    {
     "data": {
      "text/plain": [
       "(271620,)"
      ]
     },
     "execution_count": 218,
     "metadata": {},
     "output_type": "execute_result"
    }
   ],
   "source": [
    "y_train_aut.shape"
   ]
  },
  {
   "cell_type": "code",
   "execution_count": 274,
   "metadata": {},
   "outputs": [],
   "source": [
    "x_train_author=x_train_aut.drop(['totalClapCount'], axis= 1)\n",
    "y_train_author =x_train_aut['totalClapCount']"
   ]
  },
  {
   "cell_type": "code",
   "execution_count": 275,
   "metadata": {},
   "outputs": [
    {
     "name": "stdout",
     "output_type": "stream",
     "text": [
      "Model: \"sequential_6\"\n",
      "_________________________________________________________________\n",
      "Layer (type)                 Output Shape              Param #   \n",
      "=================================================================\n",
      "embedding_8 (Embedding)      (None, 10, 100)           9042700   \n",
      "_________________________________________________________________\n",
      "lstm_7 (LSTM)                (None, 100)               80400     \n",
      "_________________________________________________________________\n",
      "dense_8 (Dense)              (None, 1)                 101       \n",
      "=================================================================\n",
      "Total params: 9,123,201\n",
      "Trainable params: 9,123,201\n",
      "Non-trainable params: 0\n",
      "_________________________________________________________________\n"
     ]
    }
   ],
   "source": [
    "model_auth = Sequential()\n",
    "model_auth.add(Embedding(90427, 100, input_length=10, weights=[embed_weights]))\n",
    "model_auth.add(LSTM(100, dropout=0.5, recurrent_dropout=0.2))\n",
    "model_auth.add(Dense(1, activation='relu'))\n",
    "model_auth.compile(loss='mse', optimizer='adam', metrics=['mse'])\n",
    "model_auth.summary()"
   ]
  },
  {
   "cell_type": "code",
   "execution_count": 276,
   "metadata": {},
   "outputs": [
    {
     "name": "stdout",
     "output_type": "stream",
     "text": [
      "Epoch 1/10\n",
      "WARNING:tensorflow:Model was constructed with shape (None, 10) for input Tensor(\"embedding_8_input:0\", shape=(None, 10), dtype=float32), but it was called on an input with incompatible shape (None, 1).\n",
      "WARNING:tensorflow:Model was constructed with shape (None, 10) for input Tensor(\"embedding_8_input:0\", shape=(None, 10), dtype=float32), but it was called on an input with incompatible shape (None, 1).\n",
      "266/266 [==============================] - ETA: 0s - loss: 1709682176.0000 - mse: 1709682176.0000WARNING:tensorflow:Model was constructed with shape (None, 10) for input Tensor(\"embedding_8_input:0\", shape=(None, 10), dtype=float32), but it was called on an input with incompatible shape (None, 1).\n",
      "266/266 [==============================] - 48s 181ms/step - loss: 1709682176.0000 - mse: 1709682176.0000 - val_loss: 2068054.1250 - val_mse: 2068054.1250\n",
      "Epoch 2/10\n",
      "266/266 [==============================] - 66s 247ms/step - loss: 1709014784.0000 - mse: 1709014784.0000 - val_loss: 2062493.2500 - val_mse: 2062493.2500\n",
      "Epoch 3/10\n",
      "266/266 [==============================] - 57s 214ms/step - loss: 1708399744.0000 - mse: 1708399744.0000 - val_loss: 2057079.0000 - val_mse: 2057079.0000\n",
      "Epoch 4/10\n",
      "266/266 [==============================] - 53s 198ms/step - loss: 1707772160.0000 - mse: 1707772160.0000 - val_loss: 2052047.3750 - val_mse: 2052047.3750\n",
      "Epoch 5/10\n",
      "266/266 [==============================] - 53s 200ms/step - loss: 1707128320.0000 - mse: 1707128320.0000 - val_loss: 2047930.7500 - val_mse: 2047930.7500\n",
      "Epoch 6/10\n",
      "266/266 [==============================] - 58s 216ms/step - loss: 1706453760.0000 - mse: 1706453760.0000 - val_loss: 2044598.3750 - val_mse: 2044598.3750\n",
      "Epoch 7/10\n",
      "266/266 [==============================] - 48s 180ms/step - loss: 1705746688.0000 - mse: 1705746688.0000 - val_loss: 2042725.7500 - val_mse: 2042725.7500\n",
      "Epoch 8/10\n",
      "266/266 [==============================] - 60s 226ms/step - loss: 1704968064.0000 - mse: 1704968064.0000 - val_loss: 2042172.6250 - val_mse: 2042172.6250\n",
      "Epoch 9/10\n",
      "266/266 [==============================] - 55s 208ms/step - loss: 1704177408.0000 - mse: 1704177408.0000 - val_loss: 2042710.3750 - val_mse: 2042710.37500s - loss: 1704177408.0000 - mse: 1704177408.000\n",
      "Epoch 10/10\n",
      "266/266 [==============================] - 73s 274ms/step - loss: 1703407360.0000 - mse: 1703407360.0000 - val_loss: 2045006.6250 - val_mse: 2045006.6250\n"
     ]
    }
   ],
   "source": [
    "history2 =model_auth.fit(x_train_author, y_train_author, validation_data=(test_author_padded ,y_test) , epochs = 10, batch_size=1024)"
   ]
  },
  {
   "cell_type": "code",
   "execution_count": 183,
   "metadata": {},
   "outputs": [
    {
     "data": {
      "image/png": "[encoded data removed]",
      "text/plain": [
       "<Figure size 432x288 with 1 Axes>"
      ]
     },
     "metadata": {
      "needs_background": "light"
     },
     "output_type": "display_data"
    }
   ],
   "source": [
    "plt.plot(history2.history['val_mse'])\n",
    "plt.title('validation mse')\n",
    "plt.ylabel('mse')\n",
    "plt.xlabel('epoch')\n",
    "plt.show()"
   ]
  },
  {
   "cell_type": "markdown",
   "metadata": {},
   "source": [
    "As you can see validation loss keeps going down so there is room for improvement, but as I use this model only as a benchmark 10 epochs is enough."
   ]
  },
  {
   "cell_type": "code",
   "execution_count": 185,
   "metadata": {},
   "outputs": [
    {
     "name": "stdout",
     "output_type": "stream",
     "text": [
      "Train loss: 1709957248.0\n",
      "Train MSE: 1709957248.0\n",
      "Test loss (mse): 2062491.75\n",
      "Test MSE: 2062491.75\n"
     ]
    }
   ],
   "source": [
    "scores={}\n",
    "test_score = model_auth.evaluate(test_author_padded, y_test, verbose=0)\n",
    "train_score = model_auth.evaluate(x_train_g, y_train_g, verbose=0)\n",
    "print('Train loss:', train_score[0])\n",
    "print('Train MSE:', train_score[1])\n",
    "print('Test loss (mse):', test_score[0])\n",
    "print('Test MSE:', test_score[1])\n"
   ]
  },
  {
   "cell_type": "markdown",
   "metadata": {},
   "source": [
    "## Predictions"
   ]
  },
  {
   "cell_type": "markdown",
   "metadata": {},
   "source": [
    "I have read the test data and changed 'Header' column into 'title' above. Now I have to apply the same tokenization and padding steps, that I used for training data, for author and title columns of unknown data before making predictions with my selected model. (I chose title only model so tokenizing only title column of unknown data would be sufficient)"
   ]
  },
  {
   "cell_type": "code",
   "execution_count": 205,
   "metadata": {},
   "outputs": [
    {
     "data": {
      "text/html": [
       "<div>\n",
       "<style scoped>\n",
       "    .dataframe tbody tr th:only-of-type {\n",
       "        vertical-align: middle;\n",
       "    }\n",
       "\n",
       "    .dataframe tbody tr th {\n",
       "        vertical-align: top;\n",
       "    }\n",
       "\n",
       "    .dataframe thead th {\n",
       "        text-align: right;\n",
       "    }\n",
       "</style>\n",
       "<table border=\"1\" class=\"dataframe\">\n",
       "  <thead>\n",
       "    <tr style=\"text-align: right;\">\n",
       "      <th></th>\n",
       "      <th>Unnamed: 0</th>\n",
       "      <th>index</th>\n",
       "      <th>Author</th>\n",
       "      <th>PublicationDetails</th>\n",
       "      <th>Responses</th>\n",
       "      <th>title</th>\n",
       "      <th>Text</th>\n",
       "      <th>wordCount</th>\n",
       "    </tr>\n",
       "  </thead>\n",
       "  <tbody>\n",
       "    <tr>\n",
       "      <th>0</th>\n",
       "      <td>0</td>\n",
       "      <td>0</td>\n",
       "      <td>Daniel Jeffries</td>\n",
       "      <td>Daniel Jeffries in HackerNoon.comJul 31, 2017</td>\n",
       "      <td>627 responses</td>\n",
       "      <td>Why Everyone Missed the Most Mind-Blowing Feat...</td>\n",
       "      <td>There’s one incredible feature of cryptocurren...</td>\n",
       "      <td>23401</td>\n",
       "    </tr>\n",
       "    <tr>\n",
       "      <th>1</th>\n",
       "      <td>1</td>\n",
       "      <td>1</td>\n",
       "      <td>Noam Levenson</td>\n",
       "      <td>Noam Levenson in HackerNoon.comDec 6, 2017</td>\n",
       "      <td>156 responses</td>\n",
       "      <td>NEO versus Ethereum: Why NEO might be 2018’s s...</td>\n",
       "      <td>&lt;img class=\"progressiveMedia-noscript js-progr...</td>\n",
       "      <td>23972</td>\n",
       "    </tr>\n",
       "    <tr>\n",
       "      <th>2</th>\n",
       "      <td>2</td>\n",
       "      <td>2</td>\n",
       "      <td>Daniel Jeffries</td>\n",
       "      <td>Daniel Jeffries in HackerNoon.comJul 21, 2017</td>\n",
       "      <td>176 responses</td>\n",
       "      <td>The Cryptocurrency Trading Bible</td>\n",
       "      <td>So you want to trade cryptocurrency?You’ve see...</td>\n",
       "      <td>402</td>\n",
       "    </tr>\n",
       "    <tr>\n",
       "      <th>3</th>\n",
       "      <td>3</td>\n",
       "      <td>5</td>\n",
       "      <td>Haseeb Qureshi</td>\n",
       "      <td>Haseeb Qureshi in HackerNoon.comFeb 19, 2018</td>\n",
       "      <td>72 responses</td>\n",
       "      <td>Stablecoins: designing a price-stable cryptocu...</td>\n",
       "      <td>A useful currency should be a medium of exchan...</td>\n",
       "      <td>19730</td>\n",
       "    </tr>\n",
       "    <tr>\n",
       "      <th>4</th>\n",
       "      <td>4</td>\n",
       "      <td>7</td>\n",
       "      <td>William Belk</td>\n",
       "      <td>William Belk in HackerNoon.comJan 28, 2018</td>\n",
       "      <td>19 responses</td>\n",
       "      <td>Chaos vs. Order — The Cryptocurrency Dilemma</td>\n",
       "      <td>Crypto crypto crypto crypto. It’s here. It’s h...</td>\n",
       "      <td>5324</td>\n",
       "    </tr>\n",
       "  </tbody>\n",
       "</table>\n",
       "</div>"
      ],
      "text/plain": [
       "   Unnamed: 0  index           Author  \\\n",
       "0           0      0  Daniel Jeffries   \n",
       "1           1      1    Noam Levenson   \n",
       "2           2      2  Daniel Jeffries   \n",
       "3           3      5   Haseeb Qureshi   \n",
       "4           4      7     William Belk   \n",
       "\n",
       "                              PublicationDetails      Responses  \\\n",
       "0  Daniel Jeffries in HackerNoon.comJul 31, 2017  627 responses   \n",
       "1     Noam Levenson in HackerNoon.comDec 6, 2017  156 responses   \n",
       "2  Daniel Jeffries in HackerNoon.comJul 21, 2017  176 responses   \n",
       "3   Haseeb Qureshi in HackerNoon.comFeb 19, 2018   72 responses   \n",
       "4     William Belk in HackerNoon.comJan 28, 2018   19 responses   \n",
       "\n",
       "                                               title  \\\n",
       "0  Why Everyone Missed the Most Mind-Blowing Feat...   \n",
       "1  NEO versus Ethereum: Why NEO might be 2018’s s...   \n",
       "2                   The Cryptocurrency Trading Bible   \n",
       "3  Stablecoins: designing a price-stable cryptocu...   \n",
       "4       Chaos vs. Order — The Cryptocurrency Dilemma   \n",
       "\n",
       "                                                Text  wordCount  \n",
       "0  There’s one incredible feature of cryptocurren...      23401  \n",
       "1  <img class=\"progressiveMedia-noscript js-progr...      23972  \n",
       "2  So you want to trade cryptocurrency?You’ve see...        402  \n",
       "3  A useful currency should be a medium of exchan...      19730  \n",
       "4  Crypto crypto crypto crypto. It’s here. It’s h...       5324  "
      ]
     },
     "execution_count": 205,
     "metadata": {},
     "output_type": "execute_result"
    }
   ],
   "source": [
    "testdata.head(5)"
   ]
  },
  {
   "cell_type": "code",
   "execution_count": 208,
   "metadata": {},
   "outputs": [],
   "source": [
    "testdata['author']= testdata['author'].astype(str)\n",
    "testdata['author']= testdata['author'].map(lambda x: clean_authors(x))"
   ]
  },
  {
   "cell_type": "code",
   "execution_count": 209,
   "metadata": {},
   "outputs": [],
   "source": [
    "testdata['title']= testdata['title'].astype(str)\n",
    "testdata['title']= testdata['title'].map(lambda x: clean_title(x))"
   ]
  },
  {
   "cell_type": "code",
   "execution_count": 210,
   "metadata": {},
   "outputs": [],
   "source": [
    "vocab_size = 90427\n",
    "tokenizer_obj = Tokenizer(num_words= vocab_size)\n",
    "tokenizer_obj.fit_on_texts(testdata['title'])\n",
    "tokenized_title = tokenizer_obj.texts_to_sequences(testdata['title'])\n",
    "\n",
    "padded_testing = pad_sequences(tokenized_title,10)\n",
    "\n",
    "test_title = np.flip(padded_testing, axis=1)"
   ]
  },
  {
   "cell_type": "code",
   "execution_count": 211,
   "metadata": {},
   "outputs": [],
   "source": [
    "vocab_size = 90427\n",
    "tokenizer_obj = Tokenizer(num_words= vocab_size)\n",
    "\n",
    "tokenizer_obj.fit_on_texts(testdata['author'])\n",
    "tokenized_auth = tokenizer_obj.texts_to_sequences(testdata['author'])\n",
    "\n",
    "padded_test1 = pad_sequences(tokenized_auth,1)\n",
    "\n",
    "test_auth = np.flip(padded_test1, axis=1)"
   ]
  },
  {
   "cell_type": "code",
   "execution_count": 214,
   "metadata": {},
   "outputs": [
    {
     "data": {
      "text/plain": [
       "(514, 8)"
      ]
     },
     "execution_count": 214,
     "metadata": {},
     "output_type": "execute_result"
    }
   ],
   "source": [
    "testdata.shape"
   ]
  },
  {
   "cell_type": "code",
   "execution_count": null,
   "metadata": {},
   "outputs": [],
   "source": [
    "prediction = model.predict([test_title, test_auth])\n",
    "df = pd.DataFrame(data=prediction.flatten(), columns=['PredictedClaps'], index=testdata['index'])"
   ]
  },
  {
   "cell_type": "code",
   "execution_count": 278,
   "metadata": {},
   "outputs": [],
   "source": [
    "predictions= pd.DataFrame({'Claps':df['Claps']})"
   ]
  },
  {
   "cell_type": "code",
   "execution_count": 279,
   "metadata": {},
   "outputs": [],
   "source": [
    "predictions.to_csv('clap_predictions.csv')"
   ]
  },
  {
   "cell_type": "markdown",
   "metadata": {},
   "source": [
    "## References"
   ]
  },
  {
   "cell_type": "markdown",
   "metadata": {},
   "source": [
    "[1] Strakova, J. & Straka, M. & Hajic, J. (2014) Open-Source Tools for Morphology, Lemmatization, POS Tagging and Named Entity Recognition, Association for Computational Linguistics\n",
    "\n",
    "[2] Wielgosz, M. (2014) Implementation of a System for Fast Text Search and Document Comparison, Part of the Studies in Computational Intelligence book series (SCI, volume 541)\n",
    "\n",
    "[3] Srinivasa-Deikan, B. (2018) Natural Language Processing and Computational Linguistics: A practical guide\n",
    "\n",
    "[4] Fasnacht, L. (2018) mmappickle: Python 3 module to store memory-mapped numpy array in pickle format, Journal of Open Source Software, 3(26), 65\n",
    "\n",
    "[5] Zhang, A. & Lipton, C. & Li, M. & Smola, A. (2019) Dive into Deep Learning: Chapter 14.3.1\n",
    "\n",
    "[6] Webster, J. & Kit, C. (1992) Tokenization as the initial phase in nl, ActES DE COLING-92, Nantes:.S, 23-28\n",
    "\n",
    "[7] Keshi, I. & Suzuki Y., & Yoshino, K. & Nakamura, S. (2018) Semantically Readable Distributed Representation Learning and Its Expandability Using a Word Semantic Vector Dictionary, IEICE TRANSACTIONS on Information and Systems   Vol.E101-D   No.4   pp.1066-1078 \n",
    "\n",
    "[8] Branco, P. & Torgo, L. & Ribeiro R. (2017) SMOGN: a Pre-processing Approach for Imbalanced Regression, Proceedings of the First International Workshop on Learning with Imbalanced Domains: Theory and Applications, PMLR 74:36-50\n",
    "\n",
    "[9] Jurafsky, D. (2000) Speech & language processing, Pearson Education India\n",
    "\n",
    "[10] Fernández, A. & Garcia, S.& Herrera, F., & Chawla, N. V. (2018) SMOTE for learning from imbalanced data: progress and challenges, marking the 15-year anniversary. Journal of artificial intelligence research, 61\n",
    "\n",
    "[11] Manaswi, N. K. (2018) Understanding and Working with Keras, Deep Learning with Applications Using Python pp 31-43"
   ]
  }
 ],
 "metadata": {
  "kernelspec": {
   "display_name": "Python 3",
   "language": "python",
   "name": "python3"
  },
  "language_info": {
   "codemirror_mode": {
    "name": "ipython",
    "version": 3
   },
   "file_extension": ".py",
   "mimetype": "text/x-python",
   "name": "python",
   "nbconvert_exporter": "python",
   "pygments_lexer": "ipython3",
   "version": "3.7.6"
  }
 },
 "nbformat": 4,
 "nbformat_minor": 4
}
